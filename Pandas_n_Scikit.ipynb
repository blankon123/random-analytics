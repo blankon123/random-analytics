{
  "nbformat": 4,
  "nbformat_minor": 0,
  "metadata": {
    "colab": {
      "name": "Pandas n Scikit",
      "provenance": [],
      "authorship_tag": "ABX9TyNPmsw/JnGuqfQl+VLK7gMd",
      "include_colab_link": true
    },
    "kernelspec": {
      "name": "python3",
      "display_name": "Python 3"
    },
    "language_info": {
      "name": "python"
    }
  },
  "cells": [
    {
      "cell_type": "markdown",
      "metadata": {
        "id": "view-in-github",
        "colab_type": "text"
      },
      "source": [
        "<a href=\"https://colab.research.google.com/github/blankon123/random-analytics/blob/main/Pandas_n_Scikit.ipynb\" target=\"_parent\"><img src=\"https://colab.research.google.com/assets/colab-badge.svg\" alt=\"Open In Colab\"/></a>"
      ]
    },
    {
      "cell_type": "code",
      "metadata": {
        "id": "m9mAdpRCE1ud",
        "colab": {
          "base_uri": "https://localhost:8080/"
        },
        "outputId": "45f1a35b-4335-4300-8b99-17e10422cc83"
      },
      "source": [
        "import pandas as pd\n",
        "import sklearn as sk\n",
        "import numpy as np\n",
        "from google.colab import drive\n",
        "\n",
        "drive.mount('/content/drive')"
      ],
      "execution_count": 2,
      "outputs": [
        {
          "output_type": "stream",
          "name": "stdout",
          "text": [
            "Drive already mounted at /content/drive; to attempt to forcibly remount, call drive.mount(\"/content/drive\", force_remount=True).\n"
          ]
        }
      ]
    },
    {
      "cell_type": "markdown",
      "metadata": {
        "id": "Xu3iV0E-LhUI"
      },
      "source": [
        "## Load Data"
      ]
    },
    {
      "cell_type": "code",
      "metadata": {
        "id": "6wPWTXoUGDrY"
      },
      "source": [
        "tpk_harian = pd.read_csv('/content/drive/MyDrive/bigdata-bps-hackathon-2021/train-online_booking_2020.csv',parse_dates=['tanggal'])\n",
        "tpk_bps = pd.read_csv('/content/drive/MyDrive/bigdata-bps-hackathon-2021/train-TPK_Hotel_berbintang_2020.csv')"
      ],
      "execution_count": 3,
      "outputs": []
    },
    {
      "cell_type": "code",
      "metadata": {
        "colab": {
          "base_uri": "https://localhost:8080/",
          "height": 204
        },
        "id": "ntCMgi86LpxM",
        "outputId": "44024e36-9537-4d36-e497-1500a54ebced"
      },
      "source": [
        "tpk_harian.head()"
      ],
      "execution_count": 4,
      "outputs": [
        {
          "output_type": "execute_result",
          "data": {
            "text/html": [
              "<div>\n",
              "<style scoped>\n",
              "    .dataframe tbody tr th:only-of-type {\n",
              "        vertical-align: middle;\n",
              "    }\n",
              "\n",
              "    .dataframe tbody tr th {\n",
              "        vertical-align: top;\n",
              "    }\n",
              "\n",
              "    .dataframe thead th {\n",
              "        text-align: right;\n",
              "    }\n",
              "</style>\n",
              "<table border=\"1\" class=\"dataframe\">\n",
              "  <thead>\n",
              "    <tr style=\"text-align: right;\">\n",
              "      <th></th>\n",
              "      <th>province</th>\n",
              "      <th>type</th>\n",
              "      <th>tanggal</th>\n",
              "      <th>klasifikasi</th>\n",
              "      <th>all_available_room</th>\n",
              "      <th>room_total</th>\n",
              "    </tr>\n",
              "  </thead>\n",
              "  <tbody>\n",
              "    <tr>\n",
              "      <th>0</th>\n",
              "      <td>Bali</td>\n",
              "      <td>Hotel</td>\n",
              "      <td>2020-01-01</td>\n",
              "      <td>Rated</td>\n",
              "      <td>2155</td>\n",
              "      <td>37756</td>\n",
              "    </tr>\n",
              "    <tr>\n",
              "      <th>1</th>\n",
              "      <td>Bali</td>\n",
              "      <td>Hotel</td>\n",
              "      <td>2020-01-01</td>\n",
              "      <td>Not Rated</td>\n",
              "      <td>163</td>\n",
              "      <td>392</td>\n",
              "    </tr>\n",
              "    <tr>\n",
              "      <th>2</th>\n",
              "      <td>Bali</td>\n",
              "      <td>Hotel</td>\n",
              "      <td>2020-01-02</td>\n",
              "      <td>Rated</td>\n",
              "      <td>3878</td>\n",
              "      <td>38814</td>\n",
              "    </tr>\n",
              "    <tr>\n",
              "      <th>3</th>\n",
              "      <td>Bali</td>\n",
              "      <td>Hotel</td>\n",
              "      <td>2020-01-02</td>\n",
              "      <td>Not Rated</td>\n",
              "      <td>211</td>\n",
              "      <td>415</td>\n",
              "    </tr>\n",
              "    <tr>\n",
              "      <th>4</th>\n",
              "      <td>Bali</td>\n",
              "      <td>Hotel</td>\n",
              "      <td>2020-01-03</td>\n",
              "      <td>Rated</td>\n",
              "      <td>5412</td>\n",
              "      <td>39084</td>\n",
              "    </tr>\n",
              "  </tbody>\n",
              "</table>\n",
              "</div>"
            ],
            "text/plain": [
              "  province   type    tanggal klasifikasi  all_available_room  room_total\n",
              "0     Bali  Hotel 2020-01-01       Rated                2155       37756\n",
              "1     Bali  Hotel 2020-01-01   Not Rated                 163         392\n",
              "2     Bali  Hotel 2020-01-02       Rated                3878       38814\n",
              "3     Bali  Hotel 2020-01-02   Not Rated                 211         415\n",
              "4     Bali  Hotel 2020-01-03       Rated                5412       39084"
            ]
          },
          "metadata": {},
          "execution_count": 4
        }
      ]
    },
    {
      "cell_type": "code",
      "metadata": {
        "colab": {
          "base_uri": "https://localhost:8080/",
          "height": 204
        },
        "id": "94xfC6XzLtMi",
        "outputId": "9e545745-0cb6-452a-c3a2-7a492a8a3095"
      },
      "source": [
        "tpk_bps.head()"
      ],
      "execution_count": 5,
      "outputs": [
        {
          "output_type": "execute_result",
          "data": {
            "text/html": [
              "<div>\n",
              "<style scoped>\n",
              "    .dataframe tbody tr th:only-of-type {\n",
              "        vertical-align: middle;\n",
              "    }\n",
              "\n",
              "    .dataframe tbody tr th {\n",
              "        vertical-align: top;\n",
              "    }\n",
              "\n",
              "    .dataframe thead th {\n",
              "        text-align: right;\n",
              "    }\n",
              "</style>\n",
              "<table border=\"1\" class=\"dataframe\">\n",
              "  <thead>\n",
              "    <tr style=\"text-align: right;\">\n",
              "      <th></th>\n",
              "      <th>Id</th>\n",
              "      <th>Provinsi</th>\n",
              "      <th>Tahun</th>\n",
              "      <th>Bulan</th>\n",
              "      <th>Aggregate_var</th>\n",
              "      <th>TPK</th>\n",
              "    </tr>\n",
              "  </thead>\n",
              "  <tbody>\n",
              "    <tr>\n",
              "      <th>0</th>\n",
              "      <td>1</td>\n",
              "      <td>Bali</td>\n",
              "      <td>2020</td>\n",
              "      <td>Januari</td>\n",
              "      <td>NaN</td>\n",
              "      <td>59.29</td>\n",
              "    </tr>\n",
              "    <tr>\n",
              "      <th>1</th>\n",
              "      <td>2</td>\n",
              "      <td>Bali</td>\n",
              "      <td>2020</td>\n",
              "      <td>Februari</td>\n",
              "      <td>NaN</td>\n",
              "      <td>45.98</td>\n",
              "    </tr>\n",
              "    <tr>\n",
              "      <th>2</th>\n",
              "      <td>3</td>\n",
              "      <td>Bali</td>\n",
              "      <td>2020</td>\n",
              "      <td>Maret</td>\n",
              "      <td>NaN</td>\n",
              "      <td>25.41</td>\n",
              "    </tr>\n",
              "    <tr>\n",
              "      <th>3</th>\n",
              "      <td>4</td>\n",
              "      <td>Bali</td>\n",
              "      <td>2020</td>\n",
              "      <td>April</td>\n",
              "      <td>NaN</td>\n",
              "      <td>3.22</td>\n",
              "    </tr>\n",
              "    <tr>\n",
              "      <th>4</th>\n",
              "      <td>5</td>\n",
              "      <td>Bali</td>\n",
              "      <td>2020</td>\n",
              "      <td>Mei</td>\n",
              "      <td>NaN</td>\n",
              "      <td>2.07</td>\n",
              "    </tr>\n",
              "  </tbody>\n",
              "</table>\n",
              "</div>"
            ],
            "text/plain": [
              "   Id Provinsi  Tahun     Bulan  Aggregate_var    TPK\n",
              "0   1     Bali   2020   Januari            NaN  59.29\n",
              "1   2     Bali   2020  Februari            NaN  45.98\n",
              "2   3     Bali   2020     Maret            NaN  25.41\n",
              "3   4     Bali   2020     April            NaN   3.22\n",
              "4   5     Bali   2020       Mei            NaN   2.07"
            ]
          },
          "metadata": {},
          "execution_count": 5
        }
      ]
    },
    {
      "cell_type": "markdown",
      "metadata": {
        "id": "Odt2A0CSLk3G"
      },
      "source": [
        "## Hitung TPK Harian"
      ]
    },
    {
      "cell_type": "code",
      "metadata": {
        "id": "geVttuI-IoQo"
      },
      "source": [
        "tpk_harian['used_room'] = tpk_harian.room_total-tpk_harian.all_available_room"
      ],
      "execution_count": 6,
      "outputs": []
    },
    {
      "cell_type": "code",
      "metadata": {
        "id": "_ucFU4J_Jy_7"
      },
      "source": [
        "tpk_harian['tpk_online'] = tpk_harian.used_room/tpk_harian.room_total*100"
      ],
      "execution_count": 7,
      "outputs": []
    },
    {
      "cell_type": "code",
      "metadata": {
        "colab": {
          "base_uri": "https://localhost:8080/",
          "height": 204
        },
        "id": "OAJ5bfupGasx",
        "outputId": "4b84b461-389c-49f8-8117-9612fa27cb6c"
      },
      "source": [
        "tpk_harian.head()"
      ],
      "execution_count": 8,
      "outputs": [
        {
          "output_type": "execute_result",
          "data": {
            "text/html": [
              "<div>\n",
              "<style scoped>\n",
              "    .dataframe tbody tr th:only-of-type {\n",
              "        vertical-align: middle;\n",
              "    }\n",
              "\n",
              "    .dataframe tbody tr th {\n",
              "        vertical-align: top;\n",
              "    }\n",
              "\n",
              "    .dataframe thead th {\n",
              "        text-align: right;\n",
              "    }\n",
              "</style>\n",
              "<table border=\"1\" class=\"dataframe\">\n",
              "  <thead>\n",
              "    <tr style=\"text-align: right;\">\n",
              "      <th></th>\n",
              "      <th>province</th>\n",
              "      <th>type</th>\n",
              "      <th>tanggal</th>\n",
              "      <th>klasifikasi</th>\n",
              "      <th>all_available_room</th>\n",
              "      <th>room_total</th>\n",
              "      <th>used_room</th>\n",
              "      <th>tpk_online</th>\n",
              "    </tr>\n",
              "  </thead>\n",
              "  <tbody>\n",
              "    <tr>\n",
              "      <th>0</th>\n",
              "      <td>Bali</td>\n",
              "      <td>Hotel</td>\n",
              "      <td>2020-01-01</td>\n",
              "      <td>Rated</td>\n",
              "      <td>2155</td>\n",
              "      <td>37756</td>\n",
              "      <td>35601</td>\n",
              "      <td>94.292298</td>\n",
              "    </tr>\n",
              "    <tr>\n",
              "      <th>1</th>\n",
              "      <td>Bali</td>\n",
              "      <td>Hotel</td>\n",
              "      <td>2020-01-01</td>\n",
              "      <td>Not Rated</td>\n",
              "      <td>163</td>\n",
              "      <td>392</td>\n",
              "      <td>229</td>\n",
              "      <td>58.418367</td>\n",
              "    </tr>\n",
              "    <tr>\n",
              "      <th>2</th>\n",
              "      <td>Bali</td>\n",
              "      <td>Hotel</td>\n",
              "      <td>2020-01-02</td>\n",
              "      <td>Rated</td>\n",
              "      <td>3878</td>\n",
              "      <td>38814</td>\n",
              "      <td>34936</td>\n",
              "      <td>90.008760</td>\n",
              "    </tr>\n",
              "    <tr>\n",
              "      <th>3</th>\n",
              "      <td>Bali</td>\n",
              "      <td>Hotel</td>\n",
              "      <td>2020-01-02</td>\n",
              "      <td>Not Rated</td>\n",
              "      <td>211</td>\n",
              "      <td>415</td>\n",
              "      <td>204</td>\n",
              "      <td>49.156627</td>\n",
              "    </tr>\n",
              "    <tr>\n",
              "      <th>4</th>\n",
              "      <td>Bali</td>\n",
              "      <td>Hotel</td>\n",
              "      <td>2020-01-03</td>\n",
              "      <td>Rated</td>\n",
              "      <td>5412</td>\n",
              "      <td>39084</td>\n",
              "      <td>33672</td>\n",
              "      <td>86.152901</td>\n",
              "    </tr>\n",
              "  </tbody>\n",
              "</table>\n",
              "</div>"
            ],
            "text/plain": [
              "  province   type    tanggal  ... room_total  used_room  tpk_online\n",
              "0     Bali  Hotel 2020-01-01  ...      37756      35601   94.292298\n",
              "1     Bali  Hotel 2020-01-01  ...        392        229   58.418367\n",
              "2     Bali  Hotel 2020-01-02  ...      38814      34936   90.008760\n",
              "3     Bali  Hotel 2020-01-02  ...        415        204   49.156627\n",
              "4     Bali  Hotel 2020-01-03  ...      39084      33672   86.152901\n",
              "\n",
              "[5 rows x 8 columns]"
            ]
          },
          "metadata": {},
          "execution_count": 8
        }
      ]
    },
    {
      "cell_type": "markdown",
      "metadata": {
        "id": "0LAFb2kELy28"
      },
      "source": [
        "## Agregat Bulanan"
      ]
    },
    {
      "cell_type": "code",
      "metadata": {
        "id": "7bNL-z7XK7dk"
      },
      "source": [
        "tpk_harian = tpk_harian.set_index('tanggal')"
      ],
      "execution_count": 9,
      "outputs": []
    },
    {
      "cell_type": "code",
      "metadata": {
        "id": "iXzClXWjH9-1"
      },
      "source": [
        "tpk_harian_agg = tpk_harian.groupby(pd.Grouper(freq='M')).mean()"
      ],
      "execution_count": 10,
      "outputs": []
    },
    {
      "cell_type": "markdown",
      "metadata": {
        "id": "blpe3P0fL3wA"
      },
      "source": [
        "Sementara pake Mean, jika dirasa ada metode agregasi lain yang lebih mewakili, bisa dicoba disini"
      ]
    },
    {
      "cell_type": "code",
      "metadata": {
        "colab": {
          "base_uri": "https://localhost:8080/",
          "height": 421
        },
        "id": "kPzh7T-dKRcs",
        "outputId": "194fc7c7-3b1d-4bb0-e4aa-924b2ed9075c"
      },
      "source": [
        "tpk_harian_agg = tpk_harian_agg.reset_index()\n",
        "tpk_harian_agg"
      ],
      "execution_count": 11,
      "outputs": [
        {
          "output_type": "execute_result",
          "data": {
            "text/html": [
              "<div>\n",
              "<style scoped>\n",
              "    .dataframe tbody tr th:only-of-type {\n",
              "        vertical-align: middle;\n",
              "    }\n",
              "\n",
              "    .dataframe tbody tr th {\n",
              "        vertical-align: top;\n",
              "    }\n",
              "\n",
              "    .dataframe thead th {\n",
              "        text-align: right;\n",
              "    }\n",
              "</style>\n",
              "<table border=\"1\" class=\"dataframe\">\n",
              "  <thead>\n",
              "    <tr style=\"text-align: right;\">\n",
              "      <th></th>\n",
              "      <th>tanggal</th>\n",
              "      <th>all_available_room</th>\n",
              "      <th>room_total</th>\n",
              "      <th>used_room</th>\n",
              "      <th>tpk_online</th>\n",
              "    </tr>\n",
              "  </thead>\n",
              "  <tbody>\n",
              "    <tr>\n",
              "      <th>0</th>\n",
              "      <td>2020-01-31</td>\n",
              "      <td>5443.816667</td>\n",
              "      <td>21726.200000</td>\n",
              "      <td>16282.383333</td>\n",
              "      <td>57.250772</td>\n",
              "    </tr>\n",
              "    <tr>\n",
              "      <th>1</th>\n",
              "      <td>2020-02-29</td>\n",
              "      <td>7688.804348</td>\n",
              "      <td>23770.695652</td>\n",
              "      <td>16081.891304</td>\n",
              "      <td>54.108035</td>\n",
              "    </tr>\n",
              "    <tr>\n",
              "      <th>2</th>\n",
              "      <td>2020-03-31</td>\n",
              "      <td>15901.550000</td>\n",
              "      <td>27909.350000</td>\n",
              "      <td>12007.800000</td>\n",
              "      <td>32.692866</td>\n",
              "    </tr>\n",
              "    <tr>\n",
              "      <th>3</th>\n",
              "      <td>2020-04-30</td>\n",
              "      <td>16367.783333</td>\n",
              "      <td>21969.950000</td>\n",
              "      <td>5602.166667</td>\n",
              "      <td>21.881438</td>\n",
              "    </tr>\n",
              "    <tr>\n",
              "      <th>4</th>\n",
              "      <td>2020-05-31</td>\n",
              "      <td>15812.822581</td>\n",
              "      <td>24101.661290</td>\n",
              "      <td>8288.838710</td>\n",
              "      <td>28.758468</td>\n",
              "    </tr>\n",
              "    <tr>\n",
              "      <th>5</th>\n",
              "      <td>2020-06-30</td>\n",
              "      <td>17156.333333</td>\n",
              "      <td>25541.133333</td>\n",
              "      <td>8384.800000</td>\n",
              "      <td>23.549558</td>\n",
              "    </tr>\n",
              "    <tr>\n",
              "      <th>6</th>\n",
              "      <td>2020-07-31</td>\n",
              "      <td>16859.032258</td>\n",
              "      <td>24627.903226</td>\n",
              "      <td>7768.870968</td>\n",
              "      <td>23.315312</td>\n",
              "    </tr>\n",
              "    <tr>\n",
              "      <th>7</th>\n",
              "      <td>2020-08-31</td>\n",
              "      <td>15173.451613</td>\n",
              "      <td>24325.645161</td>\n",
              "      <td>9152.193548</td>\n",
              "      <td>28.478181</td>\n",
              "    </tr>\n",
              "    <tr>\n",
              "      <th>8</th>\n",
              "      <td>2020-09-30</td>\n",
              "      <td>16161.720000</td>\n",
              "      <td>26621.660000</td>\n",
              "      <td>10459.940000</td>\n",
              "      <td>26.950464</td>\n",
              "    </tr>\n",
              "    <tr>\n",
              "      <th>9</th>\n",
              "      <td>2020-10-31</td>\n",
              "      <td>16287.750000</td>\n",
              "      <td>26245.216667</td>\n",
              "      <td>9957.466667</td>\n",
              "      <td>27.025837</td>\n",
              "    </tr>\n",
              "    <tr>\n",
              "      <th>10</th>\n",
              "      <td>2020-11-30</td>\n",
              "      <td>15444.230769</td>\n",
              "      <td>25813.788462</td>\n",
              "      <td>10369.557692</td>\n",
              "      <td>29.077418</td>\n",
              "    </tr>\n",
              "    <tr>\n",
              "      <th>11</th>\n",
              "      <td>2020-12-31</td>\n",
              "      <td>12339.193548</td>\n",
              "      <td>23289.354839</td>\n",
              "      <td>10950.161290</td>\n",
              "      <td>33.397657</td>\n",
              "    </tr>\n",
              "  </tbody>\n",
              "</table>\n",
              "</div>"
            ],
            "text/plain": [
              "      tanggal  all_available_room    room_total     used_room  tpk_online\n",
              "0  2020-01-31         5443.816667  21726.200000  16282.383333   57.250772\n",
              "1  2020-02-29         7688.804348  23770.695652  16081.891304   54.108035\n",
              "2  2020-03-31        15901.550000  27909.350000  12007.800000   32.692866\n",
              "3  2020-04-30        16367.783333  21969.950000   5602.166667   21.881438\n",
              "4  2020-05-31        15812.822581  24101.661290   8288.838710   28.758468\n",
              "5  2020-06-30        17156.333333  25541.133333   8384.800000   23.549558\n",
              "6  2020-07-31        16859.032258  24627.903226   7768.870968   23.315312\n",
              "7  2020-08-31        15173.451613  24325.645161   9152.193548   28.478181\n",
              "8  2020-09-30        16161.720000  26621.660000  10459.940000   26.950464\n",
              "9  2020-10-31        16287.750000  26245.216667   9957.466667   27.025837\n",
              "10 2020-11-30        15444.230769  25813.788462  10369.557692   29.077418\n",
              "11 2020-12-31        12339.193548  23289.354839  10950.161290   33.397657"
            ]
          },
          "metadata": {},
          "execution_count": 11
        }
      ]
    },
    {
      "cell_type": "markdown",
      "metadata": {
        "id": "gUVGkOz0MBne"
      },
      "source": [
        "## Join Dataframe"
      ]
    },
    {
      "cell_type": "code",
      "metadata": {
        "colab": {
          "base_uri": "https://localhost:8080/",
          "height": 204
        },
        "id": "_rxybbpaKaO5",
        "outputId": "ac2a080a-408e-4139-bb88-0055b9044b10"
      },
      "source": [
        "tpk_harian_agg['Id'] = np.arange(start=1, stop=13, step=1)\n",
        "tpk_harian_agg.head()"
      ],
      "execution_count": 13,
      "outputs": [
        {
          "output_type": "execute_result",
          "data": {
            "text/html": [
              "<div>\n",
              "<style scoped>\n",
              "    .dataframe tbody tr th:only-of-type {\n",
              "        vertical-align: middle;\n",
              "    }\n",
              "\n",
              "    .dataframe tbody tr th {\n",
              "        vertical-align: top;\n",
              "    }\n",
              "\n",
              "    .dataframe thead th {\n",
              "        text-align: right;\n",
              "    }\n",
              "</style>\n",
              "<table border=\"1\" class=\"dataframe\">\n",
              "  <thead>\n",
              "    <tr style=\"text-align: right;\">\n",
              "      <th></th>\n",
              "      <th>tanggal</th>\n",
              "      <th>all_available_room</th>\n",
              "      <th>room_total</th>\n",
              "      <th>used_room</th>\n",
              "      <th>tpk_online</th>\n",
              "      <th>Id</th>\n",
              "    </tr>\n",
              "  </thead>\n",
              "  <tbody>\n",
              "    <tr>\n",
              "      <th>0</th>\n",
              "      <td>2020-01-31</td>\n",
              "      <td>5443.816667</td>\n",
              "      <td>21726.200000</td>\n",
              "      <td>16282.383333</td>\n",
              "      <td>57.250772</td>\n",
              "      <td>1</td>\n",
              "    </tr>\n",
              "    <tr>\n",
              "      <th>1</th>\n",
              "      <td>2020-02-29</td>\n",
              "      <td>7688.804348</td>\n",
              "      <td>23770.695652</td>\n",
              "      <td>16081.891304</td>\n",
              "      <td>54.108035</td>\n",
              "      <td>2</td>\n",
              "    </tr>\n",
              "    <tr>\n",
              "      <th>2</th>\n",
              "      <td>2020-03-31</td>\n",
              "      <td>15901.550000</td>\n",
              "      <td>27909.350000</td>\n",
              "      <td>12007.800000</td>\n",
              "      <td>32.692866</td>\n",
              "      <td>3</td>\n",
              "    </tr>\n",
              "    <tr>\n",
              "      <th>3</th>\n",
              "      <td>2020-04-30</td>\n",
              "      <td>16367.783333</td>\n",
              "      <td>21969.950000</td>\n",
              "      <td>5602.166667</td>\n",
              "      <td>21.881438</td>\n",
              "      <td>4</td>\n",
              "    </tr>\n",
              "    <tr>\n",
              "      <th>4</th>\n",
              "      <td>2020-05-31</td>\n",
              "      <td>15812.822581</td>\n",
              "      <td>24101.661290</td>\n",
              "      <td>8288.838710</td>\n",
              "      <td>28.758468</td>\n",
              "      <td>5</td>\n",
              "    </tr>\n",
              "  </tbody>\n",
              "</table>\n",
              "</div>"
            ],
            "text/plain": [
              "     tanggal  all_available_room    room_total     used_room  tpk_online  Id\n",
              "0 2020-01-31         5443.816667  21726.200000  16282.383333   57.250772   1\n",
              "1 2020-02-29         7688.804348  23770.695652  16081.891304   54.108035   2\n",
              "2 2020-03-31        15901.550000  27909.350000  12007.800000   32.692866   3\n",
              "3 2020-04-30        16367.783333  21969.950000   5602.166667   21.881438   4\n",
              "4 2020-05-31        15812.822581  24101.661290   8288.838710   28.758468   5"
            ]
          },
          "metadata": {},
          "execution_count": 13
        }
      ]
    },
    {
      "cell_type": "code",
      "metadata": {
        "colab": {
          "base_uri": "https://localhost:8080/",
          "height": 204
        },
        "id": "RWYIDcqiLKOY",
        "outputId": "0db8069c-d800-4e65-ded1-93ed1222825c"
      },
      "source": [
        "tpk_join = pd.merge(tpk_bps,tpk_harian_agg,on='Id',how='left')\n",
        "tpk_join.head()"
      ],
      "execution_count": 14,
      "outputs": [
        {
          "output_type": "execute_result",
          "data": {
            "text/html": [
              "<div>\n",
              "<style scoped>\n",
              "    .dataframe tbody tr th:only-of-type {\n",
              "        vertical-align: middle;\n",
              "    }\n",
              "\n",
              "    .dataframe tbody tr th {\n",
              "        vertical-align: top;\n",
              "    }\n",
              "\n",
              "    .dataframe thead th {\n",
              "        text-align: right;\n",
              "    }\n",
              "</style>\n",
              "<table border=\"1\" class=\"dataframe\">\n",
              "  <thead>\n",
              "    <tr style=\"text-align: right;\">\n",
              "      <th></th>\n",
              "      <th>Id</th>\n",
              "      <th>Provinsi</th>\n",
              "      <th>Tahun</th>\n",
              "      <th>Bulan</th>\n",
              "      <th>Aggregate_var</th>\n",
              "      <th>TPK</th>\n",
              "      <th>tanggal</th>\n",
              "      <th>all_available_room</th>\n",
              "      <th>room_total</th>\n",
              "      <th>used_room</th>\n",
              "      <th>tpk_online</th>\n",
              "    </tr>\n",
              "  </thead>\n",
              "  <tbody>\n",
              "    <tr>\n",
              "      <th>0</th>\n",
              "      <td>1</td>\n",
              "      <td>Bali</td>\n",
              "      <td>2020</td>\n",
              "      <td>Januari</td>\n",
              "      <td>NaN</td>\n",
              "      <td>59.29</td>\n",
              "      <td>2020-01-31</td>\n",
              "      <td>5443.816667</td>\n",
              "      <td>21726.200000</td>\n",
              "      <td>16282.383333</td>\n",
              "      <td>57.250772</td>\n",
              "    </tr>\n",
              "    <tr>\n",
              "      <th>1</th>\n",
              "      <td>2</td>\n",
              "      <td>Bali</td>\n",
              "      <td>2020</td>\n",
              "      <td>Februari</td>\n",
              "      <td>NaN</td>\n",
              "      <td>45.98</td>\n",
              "      <td>2020-02-29</td>\n",
              "      <td>7688.804348</td>\n",
              "      <td>23770.695652</td>\n",
              "      <td>16081.891304</td>\n",
              "      <td>54.108035</td>\n",
              "    </tr>\n",
              "    <tr>\n",
              "      <th>2</th>\n",
              "      <td>3</td>\n",
              "      <td>Bali</td>\n",
              "      <td>2020</td>\n",
              "      <td>Maret</td>\n",
              "      <td>NaN</td>\n",
              "      <td>25.41</td>\n",
              "      <td>2020-03-31</td>\n",
              "      <td>15901.550000</td>\n",
              "      <td>27909.350000</td>\n",
              "      <td>12007.800000</td>\n",
              "      <td>32.692866</td>\n",
              "    </tr>\n",
              "    <tr>\n",
              "      <th>3</th>\n",
              "      <td>4</td>\n",
              "      <td>Bali</td>\n",
              "      <td>2020</td>\n",
              "      <td>April</td>\n",
              "      <td>NaN</td>\n",
              "      <td>3.22</td>\n",
              "      <td>2020-04-30</td>\n",
              "      <td>16367.783333</td>\n",
              "      <td>21969.950000</td>\n",
              "      <td>5602.166667</td>\n",
              "      <td>21.881438</td>\n",
              "    </tr>\n",
              "    <tr>\n",
              "      <th>4</th>\n",
              "      <td>5</td>\n",
              "      <td>Bali</td>\n",
              "      <td>2020</td>\n",
              "      <td>Mei</td>\n",
              "      <td>NaN</td>\n",
              "      <td>2.07</td>\n",
              "      <td>2020-05-31</td>\n",
              "      <td>15812.822581</td>\n",
              "      <td>24101.661290</td>\n",
              "      <td>8288.838710</td>\n",
              "      <td>28.758468</td>\n",
              "    </tr>\n",
              "  </tbody>\n",
              "</table>\n",
              "</div>"
            ],
            "text/plain": [
              "   Id Provinsi  Tahun  ...    room_total     used_room  tpk_online\n",
              "0   1     Bali   2020  ...  21726.200000  16282.383333   57.250772\n",
              "1   2     Bali   2020  ...  23770.695652  16081.891304   54.108035\n",
              "2   3     Bali   2020  ...  27909.350000  12007.800000   32.692866\n",
              "3   4     Bali   2020  ...  21969.950000   5602.166667   21.881438\n",
              "4   5     Bali   2020  ...  24101.661290   8288.838710   28.758468\n",
              "\n",
              "[5 rows x 11 columns]"
            ]
          },
          "metadata": {},
          "execution_count": 14
        }
      ]
    },
    {
      "cell_type": "code",
      "metadata": {
        "id": "cTIKdAKNMMan"
      },
      "source": [
        "tpk_join = tpk_join.drop(['tanggal','Aggregate_var','Provinsi'],axis=1)"
      ],
      "execution_count": 15,
      "outputs": []
    },
    {
      "cell_type": "markdown",
      "metadata": {
        "id": "C7-OJArgMmne"
      },
      "source": [
        "Drop beberapa column yang dinilai kurang informatif untuk modelling"
      ]
    },
    {
      "cell_type": "markdown",
      "metadata": {
        "id": "uRHKzbFG0Qbu"
      },
      "source": [
        "## Transformasi"
      ]
    },
    {
      "cell_type": "code",
      "metadata": {
        "colab": {
          "base_uri": "https://localhost:8080/",
          "height": 204
        },
        "id": "7uxdX7Qg0Rk4",
        "outputId": "e482a39f-fdec-4b2a-f749-fe935c069058"
      },
      "source": [
        "from sklearn.preprocessing import StandardScaler\n",
        "\n",
        "std_scaler_tpk = StandardScaler()\n",
        "tpk_join['tpk_bps_standard'] = std_scaler_tpk.fit_transform(tpk_join['TPK'].values.reshape(-1,1))\n",
        "\n",
        "std_scaler_tpk_online = StandardScaler()\n",
        "tpk_join['tpk_online_standard'] = std_scaler_tpk_online.fit_transform(tpk_join['tpk_online'].values.reshape(-1,1))\n",
        "\n",
        "tpk_join.head()"
      ],
      "execution_count": 25,
      "outputs": [
        {
          "output_type": "execute_result",
          "data": {
            "text/html": [
              "<div>\n",
              "<style scoped>\n",
              "    .dataframe tbody tr th:only-of-type {\n",
              "        vertical-align: middle;\n",
              "    }\n",
              "\n",
              "    .dataframe tbody tr th {\n",
              "        vertical-align: top;\n",
              "    }\n",
              "\n",
              "    .dataframe thead th {\n",
              "        text-align: right;\n",
              "    }\n",
              "</style>\n",
              "<table border=\"1\" class=\"dataframe\">\n",
              "  <thead>\n",
              "    <tr style=\"text-align: right;\">\n",
              "      <th></th>\n",
              "      <th>Id</th>\n",
              "      <th>Tahun</th>\n",
              "      <th>Bulan</th>\n",
              "      <th>TPK</th>\n",
              "      <th>all_available_room</th>\n",
              "      <th>room_total</th>\n",
              "      <th>used_room</th>\n",
              "      <th>tpk_online</th>\n",
              "      <th>tpk_bps_standard</th>\n",
              "      <th>tpk_online_standard</th>\n",
              "    </tr>\n",
              "  </thead>\n",
              "  <tbody>\n",
              "    <tr>\n",
              "      <th>0</th>\n",
              "      <td>1</td>\n",
              "      <td>2020</td>\n",
              "      <td>Januari</td>\n",
              "      <td>59.29</td>\n",
              "      <td>5443.816667</td>\n",
              "      <td>21726.200000</td>\n",
              "      <td>16282.383333</td>\n",
              "      <td>57.250772</td>\n",
              "      <td>2.405994</td>\n",
              "      <td>2.271070</td>\n",
              "    </tr>\n",
              "    <tr>\n",
              "      <th>1</th>\n",
              "      <td>2</td>\n",
              "      <td>2020</td>\n",
              "      <td>Februari</td>\n",
              "      <td>45.98</td>\n",
              "      <td>7688.804348</td>\n",
              "      <td>23770.695652</td>\n",
              "      <td>16081.891304</td>\n",
              "      <td>54.108035</td>\n",
              "      <td>1.672709</td>\n",
              "      <td>1.986072</td>\n",
              "    </tr>\n",
              "    <tr>\n",
              "      <th>2</th>\n",
              "      <td>3</td>\n",
              "      <td>2020</td>\n",
              "      <td>Maret</td>\n",
              "      <td>25.41</td>\n",
              "      <td>15901.550000</td>\n",
              "      <td>27909.350000</td>\n",
              "      <td>12007.800000</td>\n",
              "      <td>32.692866</td>\n",
              "      <td>0.539450</td>\n",
              "      <td>0.044045</td>\n",
              "    </tr>\n",
              "    <tr>\n",
              "      <th>3</th>\n",
              "      <td>4</td>\n",
              "      <td>2020</td>\n",
              "      <td>April</td>\n",
              "      <td>3.22</td>\n",
              "      <td>16367.783333</td>\n",
              "      <td>21969.950000</td>\n",
              "      <td>5602.166667</td>\n",
              "      <td>21.881438</td>\n",
              "      <td>-0.683059</td>\n",
              "      <td>-0.936385</td>\n",
              "    </tr>\n",
              "    <tr>\n",
              "      <th>4</th>\n",
              "      <td>5</td>\n",
              "      <td>2020</td>\n",
              "      <td>Mei</td>\n",
              "      <td>2.07</td>\n",
              "      <td>15812.822581</td>\n",
              "      <td>24101.661290</td>\n",
              "      <td>8288.838710</td>\n",
              "      <td>28.758468</td>\n",
              "      <td>-0.746415</td>\n",
              "      <td>-0.312744</td>\n",
              "    </tr>\n",
              "  </tbody>\n",
              "</table>\n",
              "</div>"
            ],
            "text/plain": [
              "   Id  Tahun     Bulan  ...  tpk_online  tpk_bps_standard  tpk_online_standard\n",
              "0   1   2020   Januari  ...   57.250772          2.405994             2.271070\n",
              "1   2   2020  Februari  ...   54.108035          1.672709             1.986072\n",
              "2   3   2020     Maret  ...   32.692866          0.539450             0.044045\n",
              "3   4   2020     April  ...   21.881438         -0.683059            -0.936385\n",
              "4   5   2020       Mei  ...   28.758468         -0.746415            -0.312744\n",
              "\n",
              "[5 rows x 10 columns]"
            ]
          },
          "metadata": {},
          "execution_count": 25
        }
      ]
    },
    {
      "cell_type": "code",
      "metadata": {
        "colab": {
          "base_uri": "https://localhost:8080/",
          "height": 224
        },
        "id": "9f7GSl6x1-pz",
        "outputId": "6e772b46-76cb-4a37-d632-bff79dc2c7d2"
      },
      "source": [
        "from sklearn.preprocessing import MinMaxScaler\n",
        "\n",
        "minmax_scaler_tpk = MinMaxScaler()\n",
        "tpk_join['tpk_bps_minmax'] = minmax_scaler_tpk.fit_transform(tpk_join['TPK'].values.reshape(-1,1))\n",
        "\n",
        "minmax_scaler_tpk_online = MinMaxScaler()\n",
        "tpk_join['tpk_online_minmax'] = minmax_scaler_tpk_online.fit_transform(tpk_join['tpk_online'].values.reshape(-1,1))\n",
        "\n",
        "tpk_join.head()"
      ],
      "execution_count": 26,
      "outputs": [
        {
          "output_type": "execute_result",
          "data": {
            "text/html": [
              "<div>\n",
              "<style scoped>\n",
              "    .dataframe tbody tr th:only-of-type {\n",
              "        vertical-align: middle;\n",
              "    }\n",
              "\n",
              "    .dataframe tbody tr th {\n",
              "        vertical-align: top;\n",
              "    }\n",
              "\n",
              "    .dataframe thead th {\n",
              "        text-align: right;\n",
              "    }\n",
              "</style>\n",
              "<table border=\"1\" class=\"dataframe\">\n",
              "  <thead>\n",
              "    <tr style=\"text-align: right;\">\n",
              "      <th></th>\n",
              "      <th>Id</th>\n",
              "      <th>Tahun</th>\n",
              "      <th>Bulan</th>\n",
              "      <th>TPK</th>\n",
              "      <th>all_available_room</th>\n",
              "      <th>room_total</th>\n",
              "      <th>used_room</th>\n",
              "      <th>tpk_online</th>\n",
              "      <th>tpk_bps_standard</th>\n",
              "      <th>tpk_online_standard</th>\n",
              "      <th>tpk_bps_minmax</th>\n",
              "      <th>tpk_online_minmax</th>\n",
              "    </tr>\n",
              "  </thead>\n",
              "  <tbody>\n",
              "    <tr>\n",
              "      <th>0</th>\n",
              "      <td>1</td>\n",
              "      <td>2020</td>\n",
              "      <td>Januari</td>\n",
              "      <td>59.29</td>\n",
              "      <td>5443.816667</td>\n",
              "      <td>21726.200000</td>\n",
              "      <td>16282.383333</td>\n",
              "      <td>57.250772</td>\n",
              "      <td>2.405994</td>\n",
              "      <td>2.271070</td>\n",
              "      <td>1.000000</td>\n",
              "      <td>1.000000</td>\n",
              "    </tr>\n",
              "    <tr>\n",
              "      <th>1</th>\n",
              "      <td>2</td>\n",
              "      <td>2020</td>\n",
              "      <td>Februari</td>\n",
              "      <td>45.98</td>\n",
              "      <td>7688.804348</td>\n",
              "      <td>23770.695652</td>\n",
              "      <td>16081.891304</td>\n",
              "      <td>54.108035</td>\n",
              "      <td>1.672709</td>\n",
              "      <td>1.986072</td>\n",
              "      <td>0.767389</td>\n",
              "      <td>0.911145</td>\n",
              "    </tr>\n",
              "    <tr>\n",
              "      <th>2</th>\n",
              "      <td>3</td>\n",
              "      <td>2020</td>\n",
              "      <td>Maret</td>\n",
              "      <td>25.41</td>\n",
              "      <td>15901.550000</td>\n",
              "      <td>27909.350000</td>\n",
              "      <td>12007.800000</td>\n",
              "      <td>32.692866</td>\n",
              "      <td>0.539450</td>\n",
              "      <td>0.044045</td>\n",
              "      <td>0.407899</td>\n",
              "      <td>0.305672</td>\n",
              "    </tr>\n",
              "    <tr>\n",
              "      <th>3</th>\n",
              "      <td>4</td>\n",
              "      <td>2020</td>\n",
              "      <td>April</td>\n",
              "      <td>3.22</td>\n",
              "      <td>16367.783333</td>\n",
              "      <td>21969.950000</td>\n",
              "      <td>5602.166667</td>\n",
              "      <td>21.881438</td>\n",
              "      <td>-0.683059</td>\n",
              "      <td>-0.936385</td>\n",
              "      <td>0.020098</td>\n",
              "      <td>0.000000</td>\n",
              "    </tr>\n",
              "    <tr>\n",
              "      <th>4</th>\n",
              "      <td>5</td>\n",
              "      <td>2020</td>\n",
              "      <td>Mei</td>\n",
              "      <td>2.07</td>\n",
              "      <td>15812.822581</td>\n",
              "      <td>24101.661290</td>\n",
              "      <td>8288.838710</td>\n",
              "      <td>28.758468</td>\n",
              "      <td>-0.746415</td>\n",
              "      <td>-0.312744</td>\n",
              "      <td>0.000000</td>\n",
              "      <td>0.194435</td>\n",
              "    </tr>\n",
              "  </tbody>\n",
              "</table>\n",
              "</div>"
            ],
            "text/plain": [
              "   Id  Tahun     Bulan  ...  tpk_online_standard  tpk_bps_minmax  tpk_online_minmax\n",
              "0   1   2020   Januari  ...             2.271070        1.000000           1.000000\n",
              "1   2   2020  Februari  ...             1.986072        0.767389           0.911145\n",
              "2   3   2020     Maret  ...             0.044045        0.407899           0.305672\n",
              "3   4   2020     April  ...            -0.936385        0.020098           0.000000\n",
              "4   5   2020       Mei  ...            -0.312744        0.000000           0.194435\n",
              "\n",
              "[5 rows x 12 columns]"
            ]
          },
          "metadata": {},
          "execution_count": 26
        }
      ]
    },
    {
      "cell_type": "markdown",
      "metadata": {
        "id": "TBjQy1q2MG1k"
      },
      "source": [
        "## Export Dataframe"
      ]
    },
    {
      "cell_type": "code",
      "metadata": {
        "colab": {
          "base_uri": "https://localhost:8080/",
          "height": 224
        },
        "id": "c4oCZnLhMI0D",
        "outputId": "873df85f-ce8e-4532-f787-a249bb940a1a"
      },
      "source": [
        "tpk_join.head()"
      ],
      "execution_count": 27,
      "outputs": [
        {
          "output_type": "execute_result",
          "data": {
            "text/html": [
              "<div>\n",
              "<style scoped>\n",
              "    .dataframe tbody tr th:only-of-type {\n",
              "        vertical-align: middle;\n",
              "    }\n",
              "\n",
              "    .dataframe tbody tr th {\n",
              "        vertical-align: top;\n",
              "    }\n",
              "\n",
              "    .dataframe thead th {\n",
              "        text-align: right;\n",
              "    }\n",
              "</style>\n",
              "<table border=\"1\" class=\"dataframe\">\n",
              "  <thead>\n",
              "    <tr style=\"text-align: right;\">\n",
              "      <th></th>\n",
              "      <th>Id</th>\n",
              "      <th>Tahun</th>\n",
              "      <th>Bulan</th>\n",
              "      <th>TPK</th>\n",
              "      <th>all_available_room</th>\n",
              "      <th>room_total</th>\n",
              "      <th>used_room</th>\n",
              "      <th>tpk_online</th>\n",
              "      <th>tpk_bps_standard</th>\n",
              "      <th>tpk_online_standard</th>\n",
              "      <th>tpk_bps_minmax</th>\n",
              "      <th>tpk_online_minmax</th>\n",
              "    </tr>\n",
              "  </thead>\n",
              "  <tbody>\n",
              "    <tr>\n",
              "      <th>0</th>\n",
              "      <td>1</td>\n",
              "      <td>2020</td>\n",
              "      <td>Januari</td>\n",
              "      <td>59.29</td>\n",
              "      <td>5443.816667</td>\n",
              "      <td>21726.200000</td>\n",
              "      <td>16282.383333</td>\n",
              "      <td>57.250772</td>\n",
              "      <td>2.405994</td>\n",
              "      <td>2.271070</td>\n",
              "      <td>1.000000</td>\n",
              "      <td>1.000000</td>\n",
              "    </tr>\n",
              "    <tr>\n",
              "      <th>1</th>\n",
              "      <td>2</td>\n",
              "      <td>2020</td>\n",
              "      <td>Februari</td>\n",
              "      <td>45.98</td>\n",
              "      <td>7688.804348</td>\n",
              "      <td>23770.695652</td>\n",
              "      <td>16081.891304</td>\n",
              "      <td>54.108035</td>\n",
              "      <td>1.672709</td>\n",
              "      <td>1.986072</td>\n",
              "      <td>0.767389</td>\n",
              "      <td>0.911145</td>\n",
              "    </tr>\n",
              "    <tr>\n",
              "      <th>2</th>\n",
              "      <td>3</td>\n",
              "      <td>2020</td>\n",
              "      <td>Maret</td>\n",
              "      <td>25.41</td>\n",
              "      <td>15901.550000</td>\n",
              "      <td>27909.350000</td>\n",
              "      <td>12007.800000</td>\n",
              "      <td>32.692866</td>\n",
              "      <td>0.539450</td>\n",
              "      <td>0.044045</td>\n",
              "      <td>0.407899</td>\n",
              "      <td>0.305672</td>\n",
              "    </tr>\n",
              "    <tr>\n",
              "      <th>3</th>\n",
              "      <td>4</td>\n",
              "      <td>2020</td>\n",
              "      <td>April</td>\n",
              "      <td>3.22</td>\n",
              "      <td>16367.783333</td>\n",
              "      <td>21969.950000</td>\n",
              "      <td>5602.166667</td>\n",
              "      <td>21.881438</td>\n",
              "      <td>-0.683059</td>\n",
              "      <td>-0.936385</td>\n",
              "      <td>0.020098</td>\n",
              "      <td>0.000000</td>\n",
              "    </tr>\n",
              "    <tr>\n",
              "      <th>4</th>\n",
              "      <td>5</td>\n",
              "      <td>2020</td>\n",
              "      <td>Mei</td>\n",
              "      <td>2.07</td>\n",
              "      <td>15812.822581</td>\n",
              "      <td>24101.661290</td>\n",
              "      <td>8288.838710</td>\n",
              "      <td>28.758468</td>\n",
              "      <td>-0.746415</td>\n",
              "      <td>-0.312744</td>\n",
              "      <td>0.000000</td>\n",
              "      <td>0.194435</td>\n",
              "    </tr>\n",
              "  </tbody>\n",
              "</table>\n",
              "</div>"
            ],
            "text/plain": [
              "   Id  Tahun     Bulan  ...  tpk_online_standard  tpk_bps_minmax  tpk_online_minmax\n",
              "0   1   2020   Januari  ...             2.271070        1.000000           1.000000\n",
              "1   2   2020  Februari  ...             1.986072        0.767389           0.911145\n",
              "2   3   2020     Maret  ...             0.044045        0.407899           0.305672\n",
              "3   4   2020     April  ...            -0.936385        0.020098           0.000000\n",
              "4   5   2020       Mei  ...            -0.312744        0.000000           0.194435\n",
              "\n",
              "[5 rows x 12 columns]"
            ]
          },
          "metadata": {},
          "execution_count": 27
        }
      ]
    },
    {
      "cell_type": "code",
      "metadata": {
        "id": "Z5OrOEeWM6k1"
      },
      "source": [
        "tpk_join.to_csv('TPK_JOIN_PREPROC_V2.csv')"
      ],
      "execution_count": 28,
      "outputs": []
    },
    {
      "cell_type": "markdown",
      "metadata": {
        "id": "vOSWao7KN-0Z"
      },
      "source": [
        "## EDA"
      ]
    },
    {
      "cell_type": "code",
      "metadata": {
        "colab": {
          "base_uri": "https://localhost:8080/",
          "height": 542
        },
        "id": "w5dHzV1LN_xA",
        "outputId": "4548264d-c62e-490d-fda3-9cab2993974d"
      },
      "source": [
        "import plotly.graph_objects as go\n",
        "\n",
        "fig = go.Figure()\n",
        "fig.add_trace(go.Scatter(x=tpk_join['Id'], y=tpk_join['TPK'],\n",
        "                    mode='lines+markers',\n",
        "                    name='TPK BPS'))\n",
        "fig.add_trace(go.Scatter(x=tpk_join['Id'], y=tpk_join['tpk_online'],\n",
        "                    mode='lines+markers',\n",
        "                    name='TPK Online'))\n",
        "\n",
        "fig.show()"
      ],
      "execution_count": null,
      "outputs": [
        {
          "output_type": "display_data",
          "data": {
            "text/html": [
              "<html>\n",
              "<head><meta charset=\"utf-8\" /></head>\n",
              "<body>\n",
              "    <div>\n",
              "            <script src=\"https://cdnjs.cloudflare.com/ajax/libs/mathjax/2.7.5/MathJax.js?config=TeX-AMS-MML_SVG\"></script><script type=\"text/javascript\">if (window.MathJax) {MathJax.Hub.Config({SVG: {font: \"STIX-Web\"}});}</script>\n",
              "                <script type=\"text/javascript\">window.PlotlyConfig = {MathJaxConfig: 'local'};</script>\n",
              "        <script src=\"https://cdn.plot.ly/plotly-latest.min.js\"></script>    \n",
              "            <div id=\"1fef68f0-3207-46fc-8686-b78009d081f7\" class=\"plotly-graph-div\" style=\"height:525px; width:100%;\"></div>\n",
              "            <script type=\"text/javascript\">\n",
              "                \n",
              "                    window.PLOTLYENV=window.PLOTLYENV || {};\n",
              "                    \n",
              "                if (document.getElementById(\"1fef68f0-3207-46fc-8686-b78009d081f7\")) {\n",
              "                    Plotly.newPlot(\n",
              "                        '1fef68f0-3207-46fc-8686-b78009d081f7',\n",
              "                        [{\"mode\": \"lines+markers\", \"name\": \"TPK BPS\", \"type\": \"scatter\", \"x\": [1, 2, 3, 4, 5, 6, 7, 8, 9, 10, 11, 12], \"y\": [59.29, 45.98, 25.41, 3.22, 2.07, 2.07, 2.57, 3.68, 5.28, 9.53, 9.32, 19.0]}, {\"mode\": \"lines+markers\", \"name\": \"TPK Online\", \"type\": \"scatter\", \"x\": [1, 2, 3, 4, 5, 6, 7, 8, 9, 10, 11, 12], \"y\": [57.25077239888699, 54.10803454396672, 32.692866217355075, 21.881438062344145, 28.75846786839574, 23.549558232186598, 23.315311918526632, 28.47818062380988, 26.950464355167586, 27.025836553365124, 29.077417701212703, 33.3976566036032]}],\n",
              "                        {\"template\": {\"data\": {\"bar\": [{\"error_x\": {\"color\": \"#2a3f5f\"}, \"error_y\": {\"color\": \"#2a3f5f\"}, \"marker\": {\"line\": {\"color\": \"#E5ECF6\", \"width\": 0.5}}, \"type\": \"bar\"}], \"barpolar\": [{\"marker\": {\"line\": {\"color\": \"#E5ECF6\", \"width\": 0.5}}, \"type\": \"barpolar\"}], \"carpet\": [{\"aaxis\": {\"endlinecolor\": \"#2a3f5f\", \"gridcolor\": \"white\", \"linecolor\": \"white\", \"minorgridcolor\": \"white\", \"startlinecolor\": \"#2a3f5f\"}, \"baxis\": {\"endlinecolor\": \"#2a3f5f\", \"gridcolor\": \"white\", \"linecolor\": \"white\", \"minorgridcolor\": \"white\", \"startlinecolor\": \"#2a3f5f\"}, \"type\": \"carpet\"}], \"choropleth\": [{\"colorbar\": {\"outlinewidth\": 0, \"ticks\": \"\"}, \"type\": \"choropleth\"}], \"contour\": [{\"colorbar\": {\"outlinewidth\": 0, \"ticks\": \"\"}, \"colorscale\": [[0.0, \"#0d0887\"], [0.1111111111111111, \"#46039f\"], [0.2222222222222222, \"#7201a8\"], [0.3333333333333333, \"#9c179e\"], [0.4444444444444444, \"#bd3786\"], [0.5555555555555556, \"#d8576b\"], [0.6666666666666666, \"#ed7953\"], [0.7777777777777778, \"#fb9f3a\"], [0.8888888888888888, \"#fdca26\"], [1.0, \"#f0f921\"]], \"type\": \"contour\"}], \"contourcarpet\": [{\"colorbar\": {\"outlinewidth\": 0, \"ticks\": \"\"}, \"type\": \"contourcarpet\"}], \"heatmap\": [{\"colorbar\": {\"outlinewidth\": 0, \"ticks\": \"\"}, \"colorscale\": [[0.0, \"#0d0887\"], [0.1111111111111111, \"#46039f\"], [0.2222222222222222, \"#7201a8\"], [0.3333333333333333, \"#9c179e\"], [0.4444444444444444, \"#bd3786\"], [0.5555555555555556, \"#d8576b\"], [0.6666666666666666, \"#ed7953\"], [0.7777777777777778, \"#fb9f3a\"], [0.8888888888888888, \"#fdca26\"], [1.0, \"#f0f921\"]], \"type\": \"heatmap\"}], \"heatmapgl\": [{\"colorbar\": {\"outlinewidth\": 0, \"ticks\": \"\"}, \"colorscale\": [[0.0, \"#0d0887\"], [0.1111111111111111, \"#46039f\"], [0.2222222222222222, \"#7201a8\"], [0.3333333333333333, \"#9c179e\"], [0.4444444444444444, \"#bd3786\"], [0.5555555555555556, \"#d8576b\"], [0.6666666666666666, \"#ed7953\"], [0.7777777777777778, \"#fb9f3a\"], [0.8888888888888888, \"#fdca26\"], [1.0, \"#f0f921\"]], \"type\": \"heatmapgl\"}], \"histogram\": [{\"marker\": {\"colorbar\": {\"outlinewidth\": 0, \"ticks\": \"\"}}, \"type\": \"histogram\"}], \"histogram2d\": [{\"colorbar\": {\"outlinewidth\": 0, \"ticks\": \"\"}, \"colorscale\": [[0.0, \"#0d0887\"], [0.1111111111111111, \"#46039f\"], [0.2222222222222222, \"#7201a8\"], [0.3333333333333333, \"#9c179e\"], [0.4444444444444444, \"#bd3786\"], [0.5555555555555556, \"#d8576b\"], [0.6666666666666666, \"#ed7953\"], [0.7777777777777778, \"#fb9f3a\"], [0.8888888888888888, \"#fdca26\"], [1.0, \"#f0f921\"]], \"type\": \"histogram2d\"}], \"histogram2dcontour\": [{\"colorbar\": {\"outlinewidth\": 0, \"ticks\": \"\"}, \"colorscale\": [[0.0, \"#0d0887\"], [0.1111111111111111, \"#46039f\"], [0.2222222222222222, \"#7201a8\"], [0.3333333333333333, \"#9c179e\"], [0.4444444444444444, \"#bd3786\"], [0.5555555555555556, \"#d8576b\"], [0.6666666666666666, \"#ed7953\"], [0.7777777777777778, \"#fb9f3a\"], [0.8888888888888888, \"#fdca26\"], [1.0, \"#f0f921\"]], \"type\": \"histogram2dcontour\"}], \"mesh3d\": [{\"colorbar\": {\"outlinewidth\": 0, \"ticks\": \"\"}, \"type\": \"mesh3d\"}], \"parcoords\": [{\"line\": {\"colorbar\": {\"outlinewidth\": 0, \"ticks\": \"\"}}, \"type\": \"parcoords\"}], \"pie\": [{\"automargin\": true, \"type\": \"pie\"}], \"scatter\": [{\"marker\": {\"colorbar\": {\"outlinewidth\": 0, \"ticks\": \"\"}}, \"type\": \"scatter\"}], \"scatter3d\": [{\"line\": {\"colorbar\": {\"outlinewidth\": 0, \"ticks\": \"\"}}, \"marker\": {\"colorbar\": {\"outlinewidth\": 0, \"ticks\": \"\"}}, \"type\": \"scatter3d\"}], \"scattercarpet\": [{\"marker\": {\"colorbar\": {\"outlinewidth\": 0, \"ticks\": \"\"}}, \"type\": \"scattercarpet\"}], \"scattergeo\": [{\"marker\": {\"colorbar\": {\"outlinewidth\": 0, \"ticks\": \"\"}}, \"type\": \"scattergeo\"}], \"scattergl\": [{\"marker\": {\"colorbar\": {\"outlinewidth\": 0, \"ticks\": \"\"}}, \"type\": \"scattergl\"}], \"scattermapbox\": [{\"marker\": {\"colorbar\": {\"outlinewidth\": 0, \"ticks\": \"\"}}, \"type\": \"scattermapbox\"}], \"scatterpolar\": [{\"marker\": {\"colorbar\": {\"outlinewidth\": 0, \"ticks\": \"\"}}, \"type\": \"scatterpolar\"}], \"scatterpolargl\": [{\"marker\": {\"colorbar\": {\"outlinewidth\": 0, \"ticks\": \"\"}}, \"type\": \"scatterpolargl\"}], \"scatterternary\": [{\"marker\": {\"colorbar\": {\"outlinewidth\": 0, \"ticks\": \"\"}}, \"type\": \"scatterternary\"}], \"surface\": [{\"colorbar\": {\"outlinewidth\": 0, \"ticks\": \"\"}, \"colorscale\": [[0.0, \"#0d0887\"], [0.1111111111111111, \"#46039f\"], [0.2222222222222222, \"#7201a8\"], [0.3333333333333333, \"#9c179e\"], [0.4444444444444444, \"#bd3786\"], [0.5555555555555556, \"#d8576b\"], [0.6666666666666666, \"#ed7953\"], [0.7777777777777778, \"#fb9f3a\"], [0.8888888888888888, \"#fdca26\"], [1.0, \"#f0f921\"]], \"type\": \"surface\"}], \"table\": [{\"cells\": {\"fill\": {\"color\": \"#EBF0F8\"}, \"line\": {\"color\": \"white\"}}, \"header\": {\"fill\": {\"color\": \"#C8D4E3\"}, \"line\": {\"color\": \"white\"}}, \"type\": \"table\"}]}, \"layout\": {\"annotationdefaults\": {\"arrowcolor\": \"#2a3f5f\", \"arrowhead\": 0, \"arrowwidth\": 1}, \"coloraxis\": {\"colorbar\": {\"outlinewidth\": 0, \"ticks\": \"\"}}, \"colorscale\": {\"diverging\": [[0, \"#8e0152\"], [0.1, \"#c51b7d\"], [0.2, \"#de77ae\"], [0.3, \"#f1b6da\"], [0.4, \"#fde0ef\"], [0.5, \"#f7f7f7\"], [0.6, \"#e6f5d0\"], [0.7, \"#b8e186\"], [0.8, \"#7fbc41\"], [0.9, \"#4d9221\"], [1, \"#276419\"]], \"sequential\": [[0.0, \"#0d0887\"], [0.1111111111111111, \"#46039f\"], [0.2222222222222222, \"#7201a8\"], [0.3333333333333333, \"#9c179e\"], [0.4444444444444444, \"#bd3786\"], [0.5555555555555556, \"#d8576b\"], [0.6666666666666666, \"#ed7953\"], [0.7777777777777778, \"#fb9f3a\"], [0.8888888888888888, \"#fdca26\"], [1.0, \"#f0f921\"]], \"sequentialminus\": [[0.0, \"#0d0887\"], [0.1111111111111111, \"#46039f\"], [0.2222222222222222, \"#7201a8\"], [0.3333333333333333, \"#9c179e\"], [0.4444444444444444, \"#bd3786\"], [0.5555555555555556, \"#d8576b\"], [0.6666666666666666, \"#ed7953\"], [0.7777777777777778, \"#fb9f3a\"], [0.8888888888888888, \"#fdca26\"], [1.0, \"#f0f921\"]]}, \"colorway\": [\"#636efa\", \"#EF553B\", \"#00cc96\", \"#ab63fa\", \"#FFA15A\", \"#19d3f3\", \"#FF6692\", \"#B6E880\", \"#FF97FF\", \"#FECB52\"], \"font\": {\"color\": \"#2a3f5f\"}, \"geo\": {\"bgcolor\": \"white\", \"lakecolor\": \"white\", \"landcolor\": \"#E5ECF6\", \"showlakes\": true, \"showland\": true, \"subunitcolor\": \"white\"}, \"hoverlabel\": {\"align\": \"left\"}, \"hovermode\": \"closest\", \"mapbox\": {\"style\": \"light\"}, \"paper_bgcolor\": \"white\", \"plot_bgcolor\": \"#E5ECF6\", \"polar\": {\"angularaxis\": {\"gridcolor\": \"white\", \"linecolor\": \"white\", \"ticks\": \"\"}, \"bgcolor\": \"#E5ECF6\", \"radialaxis\": {\"gridcolor\": \"white\", \"linecolor\": \"white\", \"ticks\": \"\"}}, \"scene\": {\"xaxis\": {\"backgroundcolor\": \"#E5ECF6\", \"gridcolor\": \"white\", \"gridwidth\": 2, \"linecolor\": \"white\", \"showbackground\": true, \"ticks\": \"\", \"zerolinecolor\": \"white\"}, \"yaxis\": {\"backgroundcolor\": \"#E5ECF6\", \"gridcolor\": \"white\", \"gridwidth\": 2, \"linecolor\": \"white\", \"showbackground\": true, \"ticks\": \"\", \"zerolinecolor\": \"white\"}, \"zaxis\": {\"backgroundcolor\": \"#E5ECF6\", \"gridcolor\": \"white\", \"gridwidth\": 2, \"linecolor\": \"white\", \"showbackground\": true, \"ticks\": \"\", \"zerolinecolor\": \"white\"}}, \"shapedefaults\": {\"line\": {\"color\": \"#2a3f5f\"}}, \"ternary\": {\"aaxis\": {\"gridcolor\": \"white\", \"linecolor\": \"white\", \"ticks\": \"\"}, \"baxis\": {\"gridcolor\": \"white\", \"linecolor\": \"white\", \"ticks\": \"\"}, \"bgcolor\": \"#E5ECF6\", \"caxis\": {\"gridcolor\": \"white\", \"linecolor\": \"white\", \"ticks\": \"\"}}, \"title\": {\"x\": 0.05}, \"xaxis\": {\"automargin\": true, \"gridcolor\": \"white\", \"linecolor\": \"white\", \"ticks\": \"\", \"title\": {\"standoff\": 15}, \"zerolinecolor\": \"white\", \"zerolinewidth\": 2}, \"yaxis\": {\"automargin\": true, \"gridcolor\": \"white\", \"linecolor\": \"white\", \"ticks\": \"\", \"title\": {\"standoff\": 15}, \"zerolinecolor\": \"white\", \"zerolinewidth\": 2}}}},\n",
              "                        {\"responsive\": true}\n",
              "                    ).then(function(){\n",
              "                            \n",
              "var gd = document.getElementById('1fef68f0-3207-46fc-8686-b78009d081f7');\n",
              "var x = new MutationObserver(function (mutations, observer) {{\n",
              "        var display = window.getComputedStyle(gd).display;\n",
              "        if (!display || display === 'none') {{\n",
              "            console.log([gd, 'removed!']);\n",
              "            Plotly.purge(gd);\n",
              "            observer.disconnect();\n",
              "        }}\n",
              "}});\n",
              "\n",
              "// Listen for the removal of the full notebook cells\n",
              "var notebookContainer = gd.closest('#notebook-container');\n",
              "if (notebookContainer) {{\n",
              "    x.observe(notebookContainer, {childList: true});\n",
              "}}\n",
              "\n",
              "// Listen for the clearing of the current output cell\n",
              "var outputEl = gd.closest('.output');\n",
              "if (outputEl) {{\n",
              "    x.observe(outputEl, {childList: true});\n",
              "}}\n",
              "\n",
              "                        })\n",
              "                };\n",
              "                \n",
              "            </script>\n",
              "        </div>\n",
              "</body>\n",
              "</html>"
            ]
          },
          "metadata": {}
        }
      ]
    }
  ]
}
{
  "nbformat": 4,
  "nbformat_minor": 0,
  "metadata": {
    "colab": {
      "name": "Scikit 101",
      "provenance": [],
      "collapsed_sections": [],
      "authorship_tag": "ABX9TyOplhnY5HIh4Fi/pgs51PWt",
      "include_colab_link": true
    },
    "kernelspec": {
      "name": "python3",
      "display_name": "Python 3"
    },
    "language_info": {
      "name": "python"
    }
  },
  "cells": [
    {
      "cell_type": "markdown",
      "metadata": {
        "id": "view-in-github",
        "colab_type": "text"
      },
      "source": [
        "<a href=\"https://colab.research.google.com/github/blankon123/random-analytics/blob/main/Scikit_101.ipynb\" target=\"_parent\"><img src=\"https://colab.research.google.com/assets/colab-badge.svg\" alt=\"Open In Colab\"/></a>"
      ]
    },
    {
      "cell_type": "markdown",
      "metadata": {
        "id": "szJHUzcgtMFJ"
      },
      "source": [
        "## Load Libriaries"
      ]
    },
    {
      "cell_type": "code",
      "metadata": {
        "id": "A-YzZJu64_8E"
      },
      "source": [
        "from sklearn import datasets\n",
        "from sklearn import linear_model\n",
        "from sklearn.metrics import mean_squared_error\n",
        "\n",
        "import numpy as np\n",
        "import pandas as pd"
      ],
      "execution_count": 1,
      "outputs": []
    },
    {
      "cell_type": "markdown",
      "metadata": {
        "id": "EtIbzY2NtPcA"
      },
      "source": [
        "## Download Kaggle Data"
      ]
    },
    {
      "cell_type": "code",
      "metadata": {
        "colab": {
          "resources": {
            "http://localhost:8080/nbextensions/google.colab/files.js": {
              "data": "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",
              "ok": true,
              "headers": [
                [
                  "content-type",
                  "application/javascript"
                ]
              ],
              "status": 200,
              "status_text": ""
            }
          },
          "base_uri": "https://localhost:8080/",
          "height": 487
        },
        "id": "bZKh_2FreC_L",
        "outputId": "949d2e53-04a2-4a96-840f-830e7502f941"
      },
      "source": [
        "#Download dataset dari kaggle\n",
        "from google.colab import files\n",
        "from IPython.display import clear_output\n",
        "\n",
        "files.upload()\n",
        "\n",
        "! pip install -q kaggle\n",
        "! mkdir ~/.kaggle\n",
        "! cp kaggle.json ~/.kaggle/\n",
        "! chmod 600 ~/.kaggle/kaggle.json\n",
        "! kaggle competitions download -c bigdata-bps-hackathon-2021\n",
        "\n",
        "clear_output()\n",
        "!ls /content"
      ],
      "execution_count": 2,
      "outputs": [
        {
          "output_type": "stream",
          "name": "stdout",
          "text": [
            "Deskripsi%20Data%20TPK.docx  test-online_booking_2021.csv\n",
            "kaggle.json\t\t     test-TPK_Hotel_berbintang_2021.csv\n",
            "sample_data\t\t     train-online_booking_2020.csv\n",
            "sample-submission.csv\t     train-TPK_Hotel_berbintang_2020.csv\n"
          ]
        }
      ]
    },
    {
      "cell_type": "markdown",
      "metadata": {
        "id": "tgmyKPn7tS_j"
      },
      "source": [
        "## Data Loading"
      ]
    },
    {
      "cell_type": "markdown",
      "metadata": {
        "id": "xXqOp-TPtpUk"
      },
      "source": [
        "### Training Data"
      ]
    },
    {
      "cell_type": "code",
      "metadata": {
        "colab": {
          "base_uri": "https://localhost:8080/",
          "height": 359
        },
        "id": "oiATon7JenWL",
        "outputId": "9c76bfc1-1bd5-47d8-a9e9-629e9afebbd7"
      },
      "source": [
        "train_online = pd.read_csv('train-online_booking_2020.csv')\n",
        "train_online.head(10)"
      ],
      "execution_count": 3,
      "outputs": [
        {
          "output_type": "execute_result",
          "data": {
            "text/html": [
              "<div>\n",
              "<style scoped>\n",
              "    .dataframe tbody tr th:only-of-type {\n",
              "        vertical-align: middle;\n",
              "    }\n",
              "\n",
              "    .dataframe tbody tr th {\n",
              "        vertical-align: top;\n",
              "    }\n",
              "\n",
              "    .dataframe thead th {\n",
              "        text-align: right;\n",
              "    }\n",
              "</style>\n",
              "<table border=\"1\" class=\"dataframe\">\n",
              "  <thead>\n",
              "    <tr style=\"text-align: right;\">\n",
              "      <th></th>\n",
              "      <th>province</th>\n",
              "      <th>type</th>\n",
              "      <th>tanggal</th>\n",
              "      <th>klasifikasi</th>\n",
              "      <th>all_available_room</th>\n",
              "      <th>room_total</th>\n",
              "    </tr>\n",
              "  </thead>\n",
              "  <tbody>\n",
              "    <tr>\n",
              "      <th>0</th>\n",
              "      <td>Bali</td>\n",
              "      <td>Hotel</td>\n",
              "      <td>1/1/2020</td>\n",
              "      <td>Rated</td>\n",
              "      <td>2155</td>\n",
              "      <td>37756</td>\n",
              "    </tr>\n",
              "    <tr>\n",
              "      <th>1</th>\n",
              "      <td>Bali</td>\n",
              "      <td>Hotel</td>\n",
              "      <td>1/1/2020</td>\n",
              "      <td>Not Rated</td>\n",
              "      <td>163</td>\n",
              "      <td>392</td>\n",
              "    </tr>\n",
              "    <tr>\n",
              "      <th>2</th>\n",
              "      <td>Bali</td>\n",
              "      <td>Hotel</td>\n",
              "      <td>1/2/2020</td>\n",
              "      <td>Rated</td>\n",
              "      <td>3878</td>\n",
              "      <td>38814</td>\n",
              "    </tr>\n",
              "    <tr>\n",
              "      <th>3</th>\n",
              "      <td>Bali</td>\n",
              "      <td>Hotel</td>\n",
              "      <td>1/2/2020</td>\n",
              "      <td>Not Rated</td>\n",
              "      <td>211</td>\n",
              "      <td>415</td>\n",
              "    </tr>\n",
              "    <tr>\n",
              "      <th>4</th>\n",
              "      <td>Bali</td>\n",
              "      <td>Hotel</td>\n",
              "      <td>1/3/2020</td>\n",
              "      <td>Rated</td>\n",
              "      <td>5412</td>\n",
              "      <td>39084</td>\n",
              "    </tr>\n",
              "    <tr>\n",
              "      <th>5</th>\n",
              "      <td>Bali</td>\n",
              "      <td>Hotel</td>\n",
              "      <td>1/3/2020</td>\n",
              "      <td>Not Rated</td>\n",
              "      <td>256</td>\n",
              "      <td>444</td>\n",
              "    </tr>\n",
              "    <tr>\n",
              "      <th>6</th>\n",
              "      <td>Bali</td>\n",
              "      <td>Hotel</td>\n",
              "      <td>1/4/2020</td>\n",
              "      <td>Rated</td>\n",
              "      <td>7786</td>\n",
              "      <td>39310</td>\n",
              "    </tr>\n",
              "    <tr>\n",
              "      <th>7</th>\n",
              "      <td>Bali</td>\n",
              "      <td>Hotel</td>\n",
              "      <td>1/4/2020</td>\n",
              "      <td>Not Rated</td>\n",
              "      <td>306</td>\n",
              "      <td>483</td>\n",
              "    </tr>\n",
              "    <tr>\n",
              "      <th>8</th>\n",
              "      <td>Bali</td>\n",
              "      <td>Hotel</td>\n",
              "      <td>1/5/2020</td>\n",
              "      <td>Rated</td>\n",
              "      <td>7956</td>\n",
              "      <td>39334</td>\n",
              "    </tr>\n",
              "    <tr>\n",
              "      <th>9</th>\n",
              "      <td>Bali</td>\n",
              "      <td>Hotel</td>\n",
              "      <td>1/5/2020</td>\n",
              "      <td>Not Rated</td>\n",
              "      <td>273</td>\n",
              "      <td>448</td>\n",
              "    </tr>\n",
              "  </tbody>\n",
              "</table>\n",
              "</div>"
            ],
            "text/plain": [
              "  province   type   tanggal klasifikasi  all_available_room  room_total\n",
              "0     Bali  Hotel  1/1/2020       Rated                2155       37756\n",
              "1     Bali  Hotel  1/1/2020   Not Rated                 163         392\n",
              "2     Bali  Hotel  1/2/2020       Rated                3878       38814\n",
              "3     Bali  Hotel  1/2/2020   Not Rated                 211         415\n",
              "4     Bali  Hotel  1/3/2020       Rated                5412       39084\n",
              "5     Bali  Hotel  1/3/2020   Not Rated                 256         444\n",
              "6     Bali  Hotel  1/4/2020       Rated                7786       39310\n",
              "7     Bali  Hotel  1/4/2020   Not Rated                 306         483\n",
              "8     Bali  Hotel  1/5/2020       Rated                7956       39334\n",
              "9     Bali  Hotel  1/5/2020   Not Rated                 273         448"
            ]
          },
          "metadata": {},
          "execution_count": 3
        }
      ]
    },
    {
      "cell_type": "code",
      "metadata": {
        "colab": {
          "base_uri": "https://localhost:8080/"
        },
        "id": "tXYEGErsmYH-",
        "outputId": "1c745643-236b-413d-e4c8-f18c6d77a2ca"
      },
      "source": [
        "train_online.info()"
      ],
      "execution_count": 4,
      "outputs": [
        {
          "output_type": "stream",
          "name": "stdout",
          "text": [
            "<class 'pandas.core.frame.DataFrame'>\n",
            "RangeIndex: 696 entries, 0 to 695\n",
            "Data columns (total 6 columns):\n",
            " #   Column              Non-Null Count  Dtype \n",
            "---  ------              --------------  ----- \n",
            " 0   province            696 non-null    object\n",
            " 1   type                696 non-null    object\n",
            " 2   tanggal             696 non-null    object\n",
            " 3   klasifikasi         696 non-null    object\n",
            " 4   all_available_room  696 non-null    int64 \n",
            " 5   room_total          696 non-null    int64 \n",
            "dtypes: int64(2), object(4)\n",
            "memory usage: 32.8+ KB\n"
          ]
        }
      ]
    },
    {
      "cell_type": "code",
      "metadata": {
        "colab": {
          "base_uri": "https://localhost:8080/",
          "height": 204
        },
        "id": "Xy-uVQj4m_zJ",
        "outputId": "166716b6-ec70-47fb-fda7-e69a8ce8f2b0"
      },
      "source": [
        "train_bps = pd.read_csv('train-TPK_Hotel_berbintang_2020.csv')\n",
        "train_bps.head()"
      ],
      "execution_count": 5,
      "outputs": [
        {
          "output_type": "execute_result",
          "data": {
            "text/html": [
              "<div>\n",
              "<style scoped>\n",
              "    .dataframe tbody tr th:only-of-type {\n",
              "        vertical-align: middle;\n",
              "    }\n",
              "\n",
              "    .dataframe tbody tr th {\n",
              "        vertical-align: top;\n",
              "    }\n",
              "\n",
              "    .dataframe thead th {\n",
              "        text-align: right;\n",
              "    }\n",
              "</style>\n",
              "<table border=\"1\" class=\"dataframe\">\n",
              "  <thead>\n",
              "    <tr style=\"text-align: right;\">\n",
              "      <th></th>\n",
              "      <th>Id</th>\n",
              "      <th>Provinsi</th>\n",
              "      <th>Tahun</th>\n",
              "      <th>Bulan</th>\n",
              "      <th>Aggregate_var</th>\n",
              "      <th>TPK</th>\n",
              "    </tr>\n",
              "  </thead>\n",
              "  <tbody>\n",
              "    <tr>\n",
              "      <th>0</th>\n",
              "      <td>1</td>\n",
              "      <td>Bali</td>\n",
              "      <td>2020</td>\n",
              "      <td>Januari</td>\n",
              "      <td>NaN</td>\n",
              "      <td>59.29</td>\n",
              "    </tr>\n",
              "    <tr>\n",
              "      <th>1</th>\n",
              "      <td>2</td>\n",
              "      <td>Bali</td>\n",
              "      <td>2020</td>\n",
              "      <td>Februari</td>\n",
              "      <td>NaN</td>\n",
              "      <td>45.98</td>\n",
              "    </tr>\n",
              "    <tr>\n",
              "      <th>2</th>\n",
              "      <td>3</td>\n",
              "      <td>Bali</td>\n",
              "      <td>2020</td>\n",
              "      <td>Maret</td>\n",
              "      <td>NaN</td>\n",
              "      <td>25.41</td>\n",
              "    </tr>\n",
              "    <tr>\n",
              "      <th>3</th>\n",
              "      <td>4</td>\n",
              "      <td>Bali</td>\n",
              "      <td>2020</td>\n",
              "      <td>April</td>\n",
              "      <td>NaN</td>\n",
              "      <td>3.22</td>\n",
              "    </tr>\n",
              "    <tr>\n",
              "      <th>4</th>\n",
              "      <td>5</td>\n",
              "      <td>Bali</td>\n",
              "      <td>2020</td>\n",
              "      <td>Mei</td>\n",
              "      <td>NaN</td>\n",
              "      <td>2.07</td>\n",
              "    </tr>\n",
              "  </tbody>\n",
              "</table>\n",
              "</div>"
            ],
            "text/plain": [
              "   Id Provinsi  Tahun     Bulan  Aggregate_var    TPK\n",
              "0   1     Bali   2020   Januari            NaN  59.29\n",
              "1   2     Bali   2020  Februari            NaN  45.98\n",
              "2   3     Bali   2020     Maret            NaN  25.41\n",
              "3   4     Bali   2020     April            NaN   3.22\n",
              "4   5     Bali   2020       Mei            NaN   2.07"
            ]
          },
          "metadata": {},
          "execution_count": 5
        }
      ]
    },
    {
      "cell_type": "markdown",
      "metadata": {
        "id": "hcLTlQ4f0wEb"
      },
      "source": [
        "What is `'Aggregate_var'` ?"
      ]
    },
    {
      "cell_type": "code",
      "metadata": {
        "colab": {
          "base_uri": "https://localhost:8080/"
        },
        "id": "H8a1rj5anO0w",
        "outputId": "2891b740-5a15-4a85-b731-4bce01422270"
      },
      "source": [
        "train_bps.info()"
      ],
      "execution_count": 6,
      "outputs": [
        {
          "output_type": "stream",
          "name": "stdout",
          "text": [
            "<class 'pandas.core.frame.DataFrame'>\n",
            "RangeIndex: 12 entries, 0 to 11\n",
            "Data columns (total 6 columns):\n",
            " #   Column         Non-Null Count  Dtype  \n",
            "---  ------         --------------  -----  \n",
            " 0   Id             12 non-null     int64  \n",
            " 1   Provinsi       12 non-null     object \n",
            " 2   Tahun          12 non-null     int64  \n",
            " 3   Bulan          12 non-null     object \n",
            " 4   Aggregate_var  0 non-null      float64\n",
            " 5   TPK            12 non-null     float64\n",
            "dtypes: float64(2), int64(2), object(2)\n",
            "memory usage: 704.0+ bytes\n"
          ]
        }
      ]
    },
    {
      "cell_type": "markdown",
      "metadata": {
        "id": "aFwi0EqmttnG"
      },
      "source": [
        "### Testing Data"
      ]
    },
    {
      "cell_type": "code",
      "metadata": {
        "colab": {
          "base_uri": "https://localhost:8080/",
          "height": 235
        },
        "id": "GIr-4yC-sUG_",
        "outputId": "1ed38a35-eadc-4be4-8591-51892a05f1eb"
      },
      "source": [
        "test_bps = pd.read_csv('test-TPK_Hotel_berbintang_2021.csv')\n",
        "test_bps"
      ],
      "execution_count": 7,
      "outputs": [
        {
          "output_type": "execute_result",
          "data": {
            "text/html": [
              "<div>\n",
              "<style scoped>\n",
              "    .dataframe tbody tr th:only-of-type {\n",
              "        vertical-align: middle;\n",
              "    }\n",
              "\n",
              "    .dataframe tbody tr th {\n",
              "        vertical-align: top;\n",
              "    }\n",
              "\n",
              "    .dataframe thead th {\n",
              "        text-align: right;\n",
              "    }\n",
              "</style>\n",
              "<table border=\"1\" class=\"dataframe\">\n",
              "  <thead>\n",
              "    <tr style=\"text-align: right;\">\n",
              "      <th></th>\n",
              "      <th>Id</th>\n",
              "      <th>Provinsi</th>\n",
              "      <th>Tahun</th>\n",
              "      <th>Bulan</th>\n",
              "      <th>Aggregate</th>\n",
              "      <th>TPK</th>\n",
              "    </tr>\n",
              "  </thead>\n",
              "  <tbody>\n",
              "    <tr>\n",
              "      <th>0</th>\n",
              "      <td>1</td>\n",
              "      <td>BALI</td>\n",
              "      <td>2021</td>\n",
              "      <td>Januari</td>\n",
              "      <td>NaN</td>\n",
              "      <td>NaN</td>\n",
              "    </tr>\n",
              "    <tr>\n",
              "      <th>1</th>\n",
              "      <td>2</td>\n",
              "      <td>BALI</td>\n",
              "      <td>2021</td>\n",
              "      <td>Februari</td>\n",
              "      <td>NaN</td>\n",
              "      <td>NaN</td>\n",
              "    </tr>\n",
              "    <tr>\n",
              "      <th>2</th>\n",
              "      <td>3</td>\n",
              "      <td>BALI</td>\n",
              "      <td>2021</td>\n",
              "      <td>Maret</td>\n",
              "      <td>NaN</td>\n",
              "      <td>NaN</td>\n",
              "    </tr>\n",
              "    <tr>\n",
              "      <th>3</th>\n",
              "      <td>4</td>\n",
              "      <td>BALI</td>\n",
              "      <td>2021</td>\n",
              "      <td>April</td>\n",
              "      <td>NaN</td>\n",
              "      <td>NaN</td>\n",
              "    </tr>\n",
              "    <tr>\n",
              "      <th>4</th>\n",
              "      <td>5</td>\n",
              "      <td>BALI</td>\n",
              "      <td>2021</td>\n",
              "      <td>Mei</td>\n",
              "      <td>NaN</td>\n",
              "      <td>NaN</td>\n",
              "    </tr>\n",
              "    <tr>\n",
              "      <th>5</th>\n",
              "      <td>6</td>\n",
              "      <td>BALI</td>\n",
              "      <td>2021</td>\n",
              "      <td>Juni</td>\n",
              "      <td>NaN</td>\n",
              "      <td>NaN</td>\n",
              "    </tr>\n",
              "  </tbody>\n",
              "</table>\n",
              "</div>"
            ],
            "text/plain": [
              "   Id Provinsi  Tahun     Bulan  Aggregate  TPK\n",
              "0   1     BALI   2021   Januari        NaN  NaN\n",
              "1   2     BALI   2021  Februari        NaN  NaN\n",
              "2   3     BALI   2021     Maret        NaN  NaN\n",
              "3   4     BALI   2021     April        NaN  NaN\n",
              "4   5     BALI   2021       Mei        NaN  NaN\n",
              "5   6     BALI   2021      Juni        NaN  NaN"
            ]
          },
          "metadata": {},
          "execution_count": 7
        }
      ]
    },
    {
      "cell_type": "markdown",
      "metadata": {
        "id": "r3wRWMw9012J"
      },
      "source": [
        "What is `'Aggregate'` ?"
      ]
    },
    {
      "cell_type": "code",
      "metadata": {
        "colab": {
          "base_uri": "https://localhost:8080/",
          "height": 204
        },
        "id": "n8d8_C6Xtihu",
        "outputId": "ad8bf325-56ab-4b31-a96a-3b70da3141c3"
      },
      "source": [
        "test_online = pd.read_csv('test-online_booking_2021.csv')\n",
        "test_online.head()"
      ],
      "execution_count": 8,
      "outputs": [
        {
          "output_type": "execute_result",
          "data": {
            "text/html": [
              "<div>\n",
              "<style scoped>\n",
              "    .dataframe tbody tr th:only-of-type {\n",
              "        vertical-align: middle;\n",
              "    }\n",
              "\n",
              "    .dataframe tbody tr th {\n",
              "        vertical-align: top;\n",
              "    }\n",
              "\n",
              "    .dataframe thead th {\n",
              "        text-align: right;\n",
              "    }\n",
              "</style>\n",
              "<table border=\"1\" class=\"dataframe\">\n",
              "  <thead>\n",
              "    <tr style=\"text-align: right;\">\n",
              "      <th></th>\n",
              "      <th>province</th>\n",
              "      <th>type</th>\n",
              "      <th>tanggal</th>\n",
              "      <th>klasifikasi</th>\n",
              "      <th>all_available_room</th>\n",
              "      <th>room_total</th>\n",
              "    </tr>\n",
              "  </thead>\n",
              "  <tbody>\n",
              "    <tr>\n",
              "      <th>0</th>\n",
              "      <td>Bali</td>\n",
              "      <td>Hotel</td>\n",
              "      <td>1/1/2021</td>\n",
              "      <td>Rated</td>\n",
              "      <td>31334</td>\n",
              "      <td>54852</td>\n",
              "    </tr>\n",
              "    <tr>\n",
              "      <th>1</th>\n",
              "      <td>Bali</td>\n",
              "      <td>Hotel</td>\n",
              "      <td>1/1/2021</td>\n",
              "      <td>Not Rated</td>\n",
              "      <td>618</td>\n",
              "      <td>702</td>\n",
              "    </tr>\n",
              "    <tr>\n",
              "      <th>2</th>\n",
              "      <td>Bali</td>\n",
              "      <td>Hotel</td>\n",
              "      <td>1/2/2021</td>\n",
              "      <td>Rated</td>\n",
              "      <td>33698</td>\n",
              "      <td>55950</td>\n",
              "    </tr>\n",
              "    <tr>\n",
              "      <th>3</th>\n",
              "      <td>Bali</td>\n",
              "      <td>Hotel</td>\n",
              "      <td>1/2/2021</td>\n",
              "      <td>Not Rated</td>\n",
              "      <td>642</td>\n",
              "      <td>705</td>\n",
              "    </tr>\n",
              "    <tr>\n",
              "      <th>4</th>\n",
              "      <td>Bali</td>\n",
              "      <td>Hotel</td>\n",
              "      <td>1/3/2021</td>\n",
              "      <td>Rated</td>\n",
              "      <td>33310</td>\n",
              "      <td>55380</td>\n",
              "    </tr>\n",
              "  </tbody>\n",
              "</table>\n",
              "</div>"
            ],
            "text/plain": [
              "  province   type   tanggal klasifikasi  all_available_room  room_total\n",
              "0     Bali  Hotel  1/1/2021       Rated               31334       54852\n",
              "1     Bali  Hotel  1/1/2021   Not Rated                 618         702\n",
              "2     Bali  Hotel  1/2/2021       Rated               33698       55950\n",
              "3     Bali  Hotel  1/2/2021   Not Rated                 642         705\n",
              "4     Bali  Hotel  1/3/2021       Rated               33310       55380"
            ]
          },
          "metadata": {},
          "execution_count": 8
        }
      ]
    },
    {
      "cell_type": "code",
      "metadata": {
        "colab": {
          "base_uri": "https://localhost:8080/"
        },
        "id": "AY7xTYn9uH71",
        "outputId": "ed1b88c5-6e17-4ae6-c3d9-653af00037d2"
      },
      "source": [
        "test_online.info()"
      ],
      "execution_count": 9,
      "outputs": [
        {
          "output_type": "stream",
          "name": "stdout",
          "text": [
            "<class 'pandas.core.frame.DataFrame'>\n",
            "RangeIndex: 356 entries, 0 to 355\n",
            "Data columns (total 6 columns):\n",
            " #   Column              Non-Null Count  Dtype \n",
            "---  ------              --------------  ----- \n",
            " 0   province            356 non-null    object\n",
            " 1   type                356 non-null    object\n",
            " 2   tanggal             356 non-null    object\n",
            " 3   klasifikasi         356 non-null    object\n",
            " 4   all_available_room  356 non-null    int64 \n",
            " 5   room_total          356 non-null    int64 \n",
            "dtypes: int64(2), object(4)\n",
            "memory usage: 16.8+ KB\n"
          ]
        }
      ]
    },
    {
      "cell_type": "markdown",
      "metadata": {
        "id": "5cJtrk0Ztv8f"
      },
      "source": [
        "### Submission"
      ]
    },
    {
      "cell_type": "code",
      "metadata": {
        "colab": {
          "base_uri": "https://localhost:8080/",
          "height": 235
        },
        "id": "P4YxnqqIse9E",
        "outputId": "b27580c2-c274-466f-ffbc-96c766bd8ff2"
      },
      "source": [
        "submission = pd.read_csv('sample-submission.csv')\n",
        "submission"
      ],
      "execution_count": 10,
      "outputs": [
        {
          "output_type": "execute_result",
          "data": {
            "text/html": [
              "<div>\n",
              "<style scoped>\n",
              "    .dataframe tbody tr th:only-of-type {\n",
              "        vertical-align: middle;\n",
              "    }\n",
              "\n",
              "    .dataframe tbody tr th {\n",
              "        vertical-align: top;\n",
              "    }\n",
              "\n",
              "    .dataframe thead th {\n",
              "        text-align: right;\n",
              "    }\n",
              "</style>\n",
              "<table border=\"1\" class=\"dataframe\">\n",
              "  <thead>\n",
              "    <tr style=\"text-align: right;\">\n",
              "      <th></th>\n",
              "      <th>Id</th>\n",
              "      <th>TPK</th>\n",
              "    </tr>\n",
              "  </thead>\n",
              "  <tbody>\n",
              "    <tr>\n",
              "      <th>0</th>\n",
              "      <td>1</td>\n",
              "      <td>14.55</td>\n",
              "    </tr>\n",
              "    <tr>\n",
              "      <th>1</th>\n",
              "      <td>2</td>\n",
              "      <td>7.99</td>\n",
              "    </tr>\n",
              "    <tr>\n",
              "      <th>2</th>\n",
              "      <td>3</td>\n",
              "      <td>8.56</td>\n",
              "    </tr>\n",
              "    <tr>\n",
              "      <th>3</th>\n",
              "      <td>4</td>\n",
              "      <td>9.01</td>\n",
              "    </tr>\n",
              "    <tr>\n",
              "      <th>4</th>\n",
              "      <td>5</td>\n",
              "      <td>8.65</td>\n",
              "    </tr>\n",
              "    <tr>\n",
              "      <th>5</th>\n",
              "      <td>6</td>\n",
              "      <td>18.56</td>\n",
              "    </tr>\n",
              "  </tbody>\n",
              "</table>\n",
              "</div>"
            ],
            "text/plain": [
              "   Id    TPK\n",
              "0   1  14.55\n",
              "1   2   7.99\n",
              "2   3   8.56\n",
              "3   4   9.01\n",
              "4   5   8.65\n",
              "5   6  18.56"
            ]
          },
          "metadata": {},
          "execution_count": 10
        }
      ]
    },
    {
      "cell_type": "markdown",
      "metadata": {
        "id": "9Recx6lLucX8"
      },
      "source": [
        "## Preprocessing"
      ]
    },
    {
      "cell_type": "markdown",
      "metadata": {
        "id": "o8IWdW75ugLp"
      },
      "source": [
        "### Calculating Daily Used Room"
      ]
    },
    {
      "cell_type": "code",
      "metadata": {
        "id": "1aslH_ykupdD"
      },
      "source": [
        "train_online['used_room'] = train_online.room_total-train_online.all_available_room\n",
        "test_online['used_room']  = test_online.room_total - test_online.all_available_room"
      ],
      "execution_count": 11,
      "outputs": []
    },
    {
      "cell_type": "markdown",
      "metadata": {
        "id": "UDxiXAzUvHPY"
      },
      "source": [
        "### Agregating to Monthly Basis"
      ]
    },
    {
      "cell_type": "markdown",
      "metadata": {
        "id": "rAkgnxdwvZwj"
      },
      "source": [
        "First we need to cast field 'tanggal' to datetime type"
      ]
    },
    {
      "cell_type": "code",
      "metadata": {
        "id": "osMTSQWPvQXf"
      },
      "source": [
        "train_online['tanggal'] =  pd.to_datetime(train_online['tanggal'])\n",
        "test_online['tanggal']  =  pd.to_datetime(test_online['tanggal'])"
      ],
      "execution_count": 12,
      "outputs": []
    },
    {
      "cell_type": "markdown",
      "metadata": {
        "id": "lCElIhN2wotz"
      },
      "source": [
        "Now we can agregate them"
      ]
    },
    {
      "cell_type": "code",
      "metadata": {
        "id": "j_bzsCnlwsUA"
      },
      "source": [
        "train_online_agg = train_online \\\n",
        "                    .set_index(['tanggal']) \\\n",
        "                    .groupby(pd.Grouper(freq='M')) \\\n",
        "                    .sum()\n",
        "test_online_agg  = test_online \\\n",
        "                    .set_index(['tanggal']) \\\n",
        "                    .groupby(pd.Grouper(freq='M')) \\\n",
        "                    .sum()"
      ],
      "execution_count": 13,
      "outputs": []
    },
    {
      "cell_type": "code",
      "metadata": {
        "colab": {
          "base_uri": "https://localhost:8080/",
          "height": 235
        },
        "id": "7YMaJ06aw3aR",
        "outputId": "f64250ec-71cb-4c13-ddd4-092b4e88fcaf"
      },
      "source": [
        "train_online_agg.head()"
      ],
      "execution_count": 14,
      "outputs": [
        {
          "output_type": "execute_result",
          "data": {
            "text/html": [
              "<div>\n",
              "<style scoped>\n",
              "    .dataframe tbody tr th:only-of-type {\n",
              "        vertical-align: middle;\n",
              "    }\n",
              "\n",
              "    .dataframe tbody tr th {\n",
              "        vertical-align: top;\n",
              "    }\n",
              "\n",
              "    .dataframe thead th {\n",
              "        text-align: right;\n",
              "    }\n",
              "</style>\n",
              "<table border=\"1\" class=\"dataframe\">\n",
              "  <thead>\n",
              "    <tr style=\"text-align: right;\">\n",
              "      <th></th>\n",
              "      <th>all_available_room</th>\n",
              "      <th>room_total</th>\n",
              "      <th>used_room</th>\n",
              "    </tr>\n",
              "    <tr>\n",
              "      <th>tanggal</th>\n",
              "      <th></th>\n",
              "      <th></th>\n",
              "      <th></th>\n",
              "    </tr>\n",
              "  </thead>\n",
              "  <tbody>\n",
              "    <tr>\n",
              "      <th>2020-01-31</th>\n",
              "      <td>326629</td>\n",
              "      <td>1303572</td>\n",
              "      <td>976943</td>\n",
              "    </tr>\n",
              "    <tr>\n",
              "      <th>2020-02-29</th>\n",
              "      <td>353685</td>\n",
              "      <td>1093452</td>\n",
              "      <td>739767</td>\n",
              "    </tr>\n",
              "    <tr>\n",
              "      <th>2020-03-31</th>\n",
              "      <td>954093</td>\n",
              "      <td>1674561</td>\n",
              "      <td>720468</td>\n",
              "    </tr>\n",
              "    <tr>\n",
              "      <th>2020-04-30</th>\n",
              "      <td>982067</td>\n",
              "      <td>1318197</td>\n",
              "      <td>336130</td>\n",
              "    </tr>\n",
              "    <tr>\n",
              "      <th>2020-05-31</th>\n",
              "      <td>980395</td>\n",
              "      <td>1494303</td>\n",
              "      <td>513908</td>\n",
              "    </tr>\n",
              "  </tbody>\n",
              "</table>\n",
              "</div>"
            ],
            "text/plain": [
              "            all_available_room  room_total  used_room\n",
              "tanggal                                              \n",
              "2020-01-31              326629     1303572     976943\n",
              "2020-02-29              353685     1093452     739767\n",
              "2020-03-31              954093     1674561     720468\n",
              "2020-04-30              982067     1318197     336130\n",
              "2020-05-31              980395     1494303     513908"
            ]
          },
          "metadata": {},
          "execution_count": 14
        }
      ]
    },
    {
      "cell_type": "code",
      "metadata": {
        "colab": {
          "base_uri": "https://localhost:8080/",
          "height": 235
        },
        "id": "-6Cg6IbMw5Eh",
        "outputId": "03cb4183-98bf-455f-c12e-ef4b0d236c49"
      },
      "source": [
        "test_online_agg.head()"
      ],
      "execution_count": 15,
      "outputs": [
        {
          "output_type": "execute_result",
          "data": {
            "text/html": [
              "<div>\n",
              "<style scoped>\n",
              "    .dataframe tbody tr th:only-of-type {\n",
              "        vertical-align: middle;\n",
              "    }\n",
              "\n",
              "    .dataframe tbody tr th {\n",
              "        vertical-align: top;\n",
              "    }\n",
              "\n",
              "    .dataframe thead th {\n",
              "        text-align: right;\n",
              "    }\n",
              "</style>\n",
              "<table border=\"1\" class=\"dataframe\">\n",
              "  <thead>\n",
              "    <tr style=\"text-align: right;\">\n",
              "      <th></th>\n",
              "      <th>all_available_room</th>\n",
              "      <th>room_total</th>\n",
              "      <th>used_room</th>\n",
              "    </tr>\n",
              "    <tr>\n",
              "      <th>tanggal</th>\n",
              "      <th></th>\n",
              "      <th></th>\n",
              "      <th></th>\n",
              "    </tr>\n",
              "  </thead>\n",
              "  <tbody>\n",
              "    <tr>\n",
              "      <th>2021-01-31</th>\n",
              "      <td>1076383</td>\n",
              "      <td>1732399</td>\n",
              "      <td>656016</td>\n",
              "    </tr>\n",
              "    <tr>\n",
              "      <th>2021-02-28</th>\n",
              "      <td>870157</td>\n",
              "      <td>1466726</td>\n",
              "      <td>596569</td>\n",
              "    </tr>\n",
              "    <tr>\n",
              "      <th>2021-03-31</th>\n",
              "      <td>985358</td>\n",
              "      <td>1562210</td>\n",
              "      <td>576852</td>\n",
              "    </tr>\n",
              "    <tr>\n",
              "      <th>2021-04-30</th>\n",
              "      <td>1021319</td>\n",
              "      <td>1624712</td>\n",
              "      <td>603393</td>\n",
              "    </tr>\n",
              "    <tr>\n",
              "      <th>2021-05-31</th>\n",
              "      <td>996777</td>\n",
              "      <td>1588513</td>\n",
              "      <td>591736</td>\n",
              "    </tr>\n",
              "  </tbody>\n",
              "</table>\n",
              "</div>"
            ],
            "text/plain": [
              "            all_available_room  room_total  used_room\n",
              "tanggal                                              \n",
              "2021-01-31             1076383     1732399     656016\n",
              "2021-02-28              870157     1466726     596569\n",
              "2021-03-31              985358     1562210     576852\n",
              "2021-04-30             1021319     1624712     603393\n",
              "2021-05-31              996777     1588513     591736"
            ]
          },
          "metadata": {},
          "execution_count": 15
        }
      ]
    },
    {
      "cell_type": "markdown",
      "metadata": {
        "id": "1bUxM3szxm54"
      },
      "source": [
        "### Calculating Monthly Occupancy Rate"
      ]
    },
    {
      "cell_type": "code",
      "metadata": {
        "id": "Twlxkq2-xtYx"
      },
      "source": [
        "train_online_agg['TPK_Online'] = train_online_agg['used_room']/train_online_agg['room_total']*100\n",
        "test_online_agg['TPK_Online']  = test_online_agg['used_room']/test_online_agg['room_total']*100"
      ],
      "execution_count": 16,
      "outputs": []
    },
    {
      "cell_type": "code",
      "metadata": {
        "colab": {
          "base_uri": "https://localhost:8080/",
          "height": 235
        },
        "id": "mKUE6hmCyEeC",
        "outputId": "531d8d0c-2cbf-4d58-bd71-c5eee570f7eb"
      },
      "source": [
        "train_online_agg.head()"
      ],
      "execution_count": 17,
      "outputs": [
        {
          "output_type": "execute_result",
          "data": {
            "text/html": [
              "<div>\n",
              "<style scoped>\n",
              "    .dataframe tbody tr th:only-of-type {\n",
              "        vertical-align: middle;\n",
              "    }\n",
              "\n",
              "    .dataframe tbody tr th {\n",
              "        vertical-align: top;\n",
              "    }\n",
              "\n",
              "    .dataframe thead th {\n",
              "        text-align: right;\n",
              "    }\n",
              "</style>\n",
              "<table border=\"1\" class=\"dataframe\">\n",
              "  <thead>\n",
              "    <tr style=\"text-align: right;\">\n",
              "      <th></th>\n",
              "      <th>all_available_room</th>\n",
              "      <th>room_total</th>\n",
              "      <th>used_room</th>\n",
              "      <th>TPK_Online</th>\n",
              "    </tr>\n",
              "    <tr>\n",
              "      <th>tanggal</th>\n",
              "      <th></th>\n",
              "      <th></th>\n",
              "      <th></th>\n",
              "      <th></th>\n",
              "    </tr>\n",
              "  </thead>\n",
              "  <tbody>\n",
              "    <tr>\n",
              "      <th>2020-01-31</th>\n",
              "      <td>326629</td>\n",
              "      <td>1303572</td>\n",
              "      <td>976943</td>\n",
              "      <td>74.943540</td>\n",
              "    </tr>\n",
              "    <tr>\n",
              "      <th>2020-02-29</th>\n",
              "      <td>353685</td>\n",
              "      <td>1093452</td>\n",
              "      <td>739767</td>\n",
              "      <td>67.654273</td>\n",
              "    </tr>\n",
              "    <tr>\n",
              "      <th>2020-03-31</th>\n",
              "      <td>954093</td>\n",
              "      <td>1674561</td>\n",
              "      <td>720468</td>\n",
              "      <td>43.024291</td>\n",
              "    </tr>\n",
              "    <tr>\n",
              "      <th>2020-04-30</th>\n",
              "      <td>982067</td>\n",
              "      <td>1318197</td>\n",
              "      <td>336130</td>\n",
              "      <td>25.499224</td>\n",
              "    </tr>\n",
              "    <tr>\n",
              "      <th>2020-05-31</th>\n",
              "      <td>980395</td>\n",
              "      <td>1494303</td>\n",
              "      <td>513908</td>\n",
              "      <td>34.391151</td>\n",
              "    </tr>\n",
              "  </tbody>\n",
              "</table>\n",
              "</div>"
            ],
            "text/plain": [
              "            all_available_room  room_total  used_room  TPK_Online\n",
              "tanggal                                                          \n",
              "2020-01-31              326629     1303572     976943   74.943540\n",
              "2020-02-29              353685     1093452     739767   67.654273\n",
              "2020-03-31              954093     1674561     720468   43.024291\n",
              "2020-04-30              982067     1318197     336130   25.499224\n",
              "2020-05-31              980395     1494303     513908   34.391151"
            ]
          },
          "metadata": {},
          "execution_count": 17
        }
      ]
    },
    {
      "cell_type": "code",
      "metadata": {
        "colab": {
          "base_uri": "https://localhost:8080/",
          "height": 235
        },
        "id": "VPfb54ZOyEpa",
        "outputId": "88ca1cc8-4fa8-4cd3-8846-ec1d0b4a4c8c"
      },
      "source": [
        "test_online_agg.head()"
      ],
      "execution_count": 18,
      "outputs": [
        {
          "output_type": "execute_result",
          "data": {
            "text/html": [
              "<div>\n",
              "<style scoped>\n",
              "    .dataframe tbody tr th:only-of-type {\n",
              "        vertical-align: middle;\n",
              "    }\n",
              "\n",
              "    .dataframe tbody tr th {\n",
              "        vertical-align: top;\n",
              "    }\n",
              "\n",
              "    .dataframe thead th {\n",
              "        text-align: right;\n",
              "    }\n",
              "</style>\n",
              "<table border=\"1\" class=\"dataframe\">\n",
              "  <thead>\n",
              "    <tr style=\"text-align: right;\">\n",
              "      <th></th>\n",
              "      <th>all_available_room</th>\n",
              "      <th>room_total</th>\n",
              "      <th>used_room</th>\n",
              "      <th>TPK_Online</th>\n",
              "    </tr>\n",
              "    <tr>\n",
              "      <th>tanggal</th>\n",
              "      <th></th>\n",
              "      <th></th>\n",
              "      <th></th>\n",
              "      <th></th>\n",
              "    </tr>\n",
              "  </thead>\n",
              "  <tbody>\n",
              "    <tr>\n",
              "      <th>2021-01-31</th>\n",
              "      <td>1076383</td>\n",
              "      <td>1732399</td>\n",
              "      <td>656016</td>\n",
              "      <td>37.867489</td>\n",
              "    </tr>\n",
              "    <tr>\n",
              "      <th>2021-02-28</th>\n",
              "      <td>870157</td>\n",
              "      <td>1466726</td>\n",
              "      <td>596569</td>\n",
              "      <td>40.673514</td>\n",
              "    </tr>\n",
              "    <tr>\n",
              "      <th>2021-03-31</th>\n",
              "      <td>985358</td>\n",
              "      <td>1562210</td>\n",
              "      <td>576852</td>\n",
              "      <td>36.925381</td>\n",
              "    </tr>\n",
              "    <tr>\n",
              "      <th>2021-04-30</th>\n",
              "      <td>1021319</td>\n",
              "      <td>1624712</td>\n",
              "      <td>603393</td>\n",
              "      <td>37.138459</td>\n",
              "    </tr>\n",
              "    <tr>\n",
              "      <th>2021-05-31</th>\n",
              "      <td>996777</td>\n",
              "      <td>1588513</td>\n",
              "      <td>591736</td>\n",
              "      <td>37.250938</td>\n",
              "    </tr>\n",
              "  </tbody>\n",
              "</table>\n",
              "</div>"
            ],
            "text/plain": [
              "            all_available_room  room_total  used_room  TPK_Online\n",
              "tanggal                                                          \n",
              "2021-01-31             1076383     1732399     656016   37.867489\n",
              "2021-02-28              870157     1466726     596569   40.673514\n",
              "2021-03-31              985358     1562210     576852   36.925381\n",
              "2021-04-30             1021319     1624712     603393   37.138459\n",
              "2021-05-31              996777     1588513     591736   37.250938"
            ]
          },
          "metadata": {},
          "execution_count": 18
        }
      ]
    },
    {
      "cell_type": "markdown",
      "metadata": {
        "id": "HQ9Ftm5myl1l"
      },
      "source": [
        "### Join Datasets"
      ]
    },
    {
      "cell_type": "markdown",
      "metadata": {
        "id": "2lHZ5-cUyuSf"
      },
      "source": [
        "First we need to reset the index and make 'Id' column for join purpose"
      ]
    },
    {
      "cell_type": "code",
      "metadata": {
        "id": "DjuYdK61yktG"
      },
      "source": [
        "train_online_agg = train_online_agg.reset_index()\n",
        "test_online_agg  = test_online_agg.reset_index()"
      ],
      "execution_count": 19,
      "outputs": []
    },
    {
      "cell_type": "code",
      "metadata": {
        "id": "b4vDtljNzG-S"
      },
      "source": [
        "train_online_agg['Id'] = pd. DatetimeIndex(train_online_agg['tanggal']).month\n",
        "test_online_agg['Id']  = pd. DatetimeIndex(test_online_agg['tanggal']).month"
      ],
      "execution_count": 20,
      "outputs": []
    },
    {
      "cell_type": "markdown",
      "metadata": {
        "id": "0qxa4007zw5I"
      },
      "source": [
        "Once both the data have 'Id' column, we can join them based on that column"
      ]
    },
    {
      "cell_type": "code",
      "metadata": {
        "colab": {
          "base_uri": "https://localhost:8080/",
          "height": 204
        },
        "id": "Im_jxfAFz2pL",
        "outputId": "6cec9c09-3879-4118-bbce-f9cd726a57de"
      },
      "source": [
        "train_full = pd.merge(train_online_agg,train_bps,on='Id',how='left')\n",
        "train_full.head()"
      ],
      "execution_count": 21,
      "outputs": [
        {
          "output_type": "execute_result",
          "data": {
            "text/html": [
              "<div>\n",
              "<style scoped>\n",
              "    .dataframe tbody tr th:only-of-type {\n",
              "        vertical-align: middle;\n",
              "    }\n",
              "\n",
              "    .dataframe tbody tr th {\n",
              "        vertical-align: top;\n",
              "    }\n",
              "\n",
              "    .dataframe thead th {\n",
              "        text-align: right;\n",
              "    }\n",
              "</style>\n",
              "<table border=\"1\" class=\"dataframe\">\n",
              "  <thead>\n",
              "    <tr style=\"text-align: right;\">\n",
              "      <th></th>\n",
              "      <th>tanggal</th>\n",
              "      <th>all_available_room</th>\n",
              "      <th>room_total</th>\n",
              "      <th>used_room</th>\n",
              "      <th>TPK_Online</th>\n",
              "      <th>Id</th>\n",
              "      <th>Provinsi</th>\n",
              "      <th>Tahun</th>\n",
              "      <th>Bulan</th>\n",
              "      <th>Aggregate_var</th>\n",
              "      <th>TPK</th>\n",
              "    </tr>\n",
              "  </thead>\n",
              "  <tbody>\n",
              "    <tr>\n",
              "      <th>0</th>\n",
              "      <td>2020-01-31</td>\n",
              "      <td>326629</td>\n",
              "      <td>1303572</td>\n",
              "      <td>976943</td>\n",
              "      <td>74.943540</td>\n",
              "      <td>1</td>\n",
              "      <td>Bali</td>\n",
              "      <td>2020</td>\n",
              "      <td>Januari</td>\n",
              "      <td>NaN</td>\n",
              "      <td>59.29</td>\n",
              "    </tr>\n",
              "    <tr>\n",
              "      <th>1</th>\n",
              "      <td>2020-02-29</td>\n",
              "      <td>353685</td>\n",
              "      <td>1093452</td>\n",
              "      <td>739767</td>\n",
              "      <td>67.654273</td>\n",
              "      <td>2</td>\n",
              "      <td>Bali</td>\n",
              "      <td>2020</td>\n",
              "      <td>Februari</td>\n",
              "      <td>NaN</td>\n",
              "      <td>45.98</td>\n",
              "    </tr>\n",
              "    <tr>\n",
              "      <th>2</th>\n",
              "      <td>2020-03-31</td>\n",
              "      <td>954093</td>\n",
              "      <td>1674561</td>\n",
              "      <td>720468</td>\n",
              "      <td>43.024291</td>\n",
              "      <td>3</td>\n",
              "      <td>Bali</td>\n",
              "      <td>2020</td>\n",
              "      <td>Maret</td>\n",
              "      <td>NaN</td>\n",
              "      <td>25.41</td>\n",
              "    </tr>\n",
              "    <tr>\n",
              "      <th>3</th>\n",
              "      <td>2020-04-30</td>\n",
              "      <td>982067</td>\n",
              "      <td>1318197</td>\n",
              "      <td>336130</td>\n",
              "      <td>25.499224</td>\n",
              "      <td>4</td>\n",
              "      <td>Bali</td>\n",
              "      <td>2020</td>\n",
              "      <td>April</td>\n",
              "      <td>NaN</td>\n",
              "      <td>3.22</td>\n",
              "    </tr>\n",
              "    <tr>\n",
              "      <th>4</th>\n",
              "      <td>2020-05-31</td>\n",
              "      <td>980395</td>\n",
              "      <td>1494303</td>\n",
              "      <td>513908</td>\n",
              "      <td>34.391151</td>\n",
              "      <td>5</td>\n",
              "      <td>Bali</td>\n",
              "      <td>2020</td>\n",
              "      <td>Mei</td>\n",
              "      <td>NaN</td>\n",
              "      <td>2.07</td>\n",
              "    </tr>\n",
              "  </tbody>\n",
              "</table>\n",
              "</div>"
            ],
            "text/plain": [
              "     tanggal  all_available_room  room_total  ...     Bulan  Aggregate_var    TPK\n",
              "0 2020-01-31              326629     1303572  ...   Januari            NaN  59.29\n",
              "1 2020-02-29              353685     1093452  ...  Februari            NaN  45.98\n",
              "2 2020-03-31              954093     1674561  ...     Maret            NaN  25.41\n",
              "3 2020-04-30              982067     1318197  ...     April            NaN   3.22\n",
              "4 2020-05-31              980395     1494303  ...       Mei            NaN   2.07\n",
              "\n",
              "[5 rows x 11 columns]"
            ]
          },
          "metadata": {},
          "execution_count": 21
        }
      ]
    },
    {
      "cell_type": "code",
      "metadata": {
        "colab": {
          "base_uri": "https://localhost:8080/",
          "height": 204
        },
        "id": "1ifEDiPM0G_h",
        "outputId": "f65f9e70-8193-48f7-fe2d-1a108962cf27"
      },
      "source": [
        "test_full = pd.merge(test_online_agg,test_bps,on='Id',how='left')\n",
        "test_full.head()"
      ],
      "execution_count": 22,
      "outputs": [
        {
          "output_type": "execute_result",
          "data": {
            "text/html": [
              "<div>\n",
              "<style scoped>\n",
              "    .dataframe tbody tr th:only-of-type {\n",
              "        vertical-align: middle;\n",
              "    }\n",
              "\n",
              "    .dataframe tbody tr th {\n",
              "        vertical-align: top;\n",
              "    }\n",
              "\n",
              "    .dataframe thead th {\n",
              "        text-align: right;\n",
              "    }\n",
              "</style>\n",
              "<table border=\"1\" class=\"dataframe\">\n",
              "  <thead>\n",
              "    <tr style=\"text-align: right;\">\n",
              "      <th></th>\n",
              "      <th>tanggal</th>\n",
              "      <th>all_available_room</th>\n",
              "      <th>room_total</th>\n",
              "      <th>used_room</th>\n",
              "      <th>TPK_Online</th>\n",
              "      <th>Id</th>\n",
              "      <th>Provinsi</th>\n",
              "      <th>Tahun</th>\n",
              "      <th>Bulan</th>\n",
              "      <th>Aggregate</th>\n",
              "      <th>TPK</th>\n",
              "    </tr>\n",
              "  </thead>\n",
              "  <tbody>\n",
              "    <tr>\n",
              "      <th>0</th>\n",
              "      <td>2021-01-31</td>\n",
              "      <td>1076383</td>\n",
              "      <td>1732399</td>\n",
              "      <td>656016</td>\n",
              "      <td>37.867489</td>\n",
              "      <td>1</td>\n",
              "      <td>BALI</td>\n",
              "      <td>2021</td>\n",
              "      <td>Januari</td>\n",
              "      <td>NaN</td>\n",
              "      <td>NaN</td>\n",
              "    </tr>\n",
              "    <tr>\n",
              "      <th>1</th>\n",
              "      <td>2021-02-28</td>\n",
              "      <td>870157</td>\n",
              "      <td>1466726</td>\n",
              "      <td>596569</td>\n",
              "      <td>40.673514</td>\n",
              "      <td>2</td>\n",
              "      <td>BALI</td>\n",
              "      <td>2021</td>\n",
              "      <td>Februari</td>\n",
              "      <td>NaN</td>\n",
              "      <td>NaN</td>\n",
              "    </tr>\n",
              "    <tr>\n",
              "      <th>2</th>\n",
              "      <td>2021-03-31</td>\n",
              "      <td>985358</td>\n",
              "      <td>1562210</td>\n",
              "      <td>576852</td>\n",
              "      <td>36.925381</td>\n",
              "      <td>3</td>\n",
              "      <td>BALI</td>\n",
              "      <td>2021</td>\n",
              "      <td>Maret</td>\n",
              "      <td>NaN</td>\n",
              "      <td>NaN</td>\n",
              "    </tr>\n",
              "    <tr>\n",
              "      <th>3</th>\n",
              "      <td>2021-04-30</td>\n",
              "      <td>1021319</td>\n",
              "      <td>1624712</td>\n",
              "      <td>603393</td>\n",
              "      <td>37.138459</td>\n",
              "      <td>4</td>\n",
              "      <td>BALI</td>\n",
              "      <td>2021</td>\n",
              "      <td>April</td>\n",
              "      <td>NaN</td>\n",
              "      <td>NaN</td>\n",
              "    </tr>\n",
              "    <tr>\n",
              "      <th>4</th>\n",
              "      <td>2021-05-31</td>\n",
              "      <td>996777</td>\n",
              "      <td>1588513</td>\n",
              "      <td>591736</td>\n",
              "      <td>37.250938</td>\n",
              "      <td>5</td>\n",
              "      <td>BALI</td>\n",
              "      <td>2021</td>\n",
              "      <td>Mei</td>\n",
              "      <td>NaN</td>\n",
              "      <td>NaN</td>\n",
              "    </tr>\n",
              "  </tbody>\n",
              "</table>\n",
              "</div>"
            ],
            "text/plain": [
              "     tanggal  all_available_room  room_total  ...     Bulan  Aggregate  TPK\n",
              "0 2021-01-31             1076383     1732399  ...   Januari        NaN  NaN\n",
              "1 2021-02-28              870157     1466726  ...  Februari        NaN  NaN\n",
              "2 2021-03-31              985358     1562210  ...     Maret        NaN  NaN\n",
              "3 2021-04-30             1021319     1624712  ...     April        NaN  NaN\n",
              "4 2021-05-31              996777     1588513  ...       Mei        NaN  NaN\n",
              "\n",
              "[5 rows x 11 columns]"
            ]
          },
          "metadata": {},
          "execution_count": 22
        }
      ]
    },
    {
      "cell_type": "markdown",
      "metadata": {
        "id": "ghe8Eegp0QCX"
      },
      "source": [
        "As we saw above, we need to select only informative variable in our dataset"
      ]
    },
    {
      "cell_type": "code",
      "metadata": {
        "id": "oyK5tm3O0al6"
      },
      "source": [
        "trainset = train_full[['TPK_Online','TPK']]\n",
        "testset  = test_full[['TPK_Online','TPK']]"
      ],
      "execution_count": 23,
      "outputs": []
    },
    {
      "cell_type": "code",
      "metadata": {
        "colab": {
          "base_uri": "https://localhost:8080/",
          "height": 421
        },
        "id": "378qdFKk1StK",
        "outputId": "56345aac-ddee-469c-88f1-7c804f1adf25"
      },
      "source": [
        "trainset"
      ],
      "execution_count": 24,
      "outputs": [
        {
          "output_type": "execute_result",
          "data": {
            "text/html": [
              "<div>\n",
              "<style scoped>\n",
              "    .dataframe tbody tr th:only-of-type {\n",
              "        vertical-align: middle;\n",
              "    }\n",
              "\n",
              "    .dataframe tbody tr th {\n",
              "        vertical-align: top;\n",
              "    }\n",
              "\n",
              "    .dataframe thead th {\n",
              "        text-align: right;\n",
              "    }\n",
              "</style>\n",
              "<table border=\"1\" class=\"dataframe\">\n",
              "  <thead>\n",
              "    <tr style=\"text-align: right;\">\n",
              "      <th></th>\n",
              "      <th>TPK_Online</th>\n",
              "      <th>TPK</th>\n",
              "    </tr>\n",
              "  </thead>\n",
              "  <tbody>\n",
              "    <tr>\n",
              "      <th>0</th>\n",
              "      <td>74.943540</td>\n",
              "      <td>59.29</td>\n",
              "    </tr>\n",
              "    <tr>\n",
              "      <th>1</th>\n",
              "      <td>67.654273</td>\n",
              "      <td>45.98</td>\n",
              "    </tr>\n",
              "    <tr>\n",
              "      <th>2</th>\n",
              "      <td>43.024291</td>\n",
              "      <td>25.41</td>\n",
              "    </tr>\n",
              "    <tr>\n",
              "      <th>3</th>\n",
              "      <td>25.499224</td>\n",
              "      <td>3.22</td>\n",
              "    </tr>\n",
              "    <tr>\n",
              "      <th>4</th>\n",
              "      <td>34.391151</td>\n",
              "      <td>2.07</td>\n",
              "    </tr>\n",
              "    <tr>\n",
              "      <th>5</th>\n",
              "      <td>32.828614</td>\n",
              "      <td>2.07</td>\n",
              "    </tr>\n",
              "    <tr>\n",
              "      <th>6</th>\n",
              "      <td>31.544996</td>\n",
              "      <td>2.57</td>\n",
              "    </tr>\n",
              "    <tr>\n",
              "      <th>7</th>\n",
              "      <td>37.623642</td>\n",
              "      <td>3.68</td>\n",
              "    </tr>\n",
              "    <tr>\n",
              "      <th>8</th>\n",
              "      <td>39.291089</td>\n",
              "      <td>5.28</td>\n",
              "    </tr>\n",
              "    <tr>\n",
              "      <th>9</th>\n",
              "      <td>37.940120</td>\n",
              "      <td>9.53</td>\n",
              "    </tr>\n",
              "    <tr>\n",
              "      <th>10</th>\n",
              "      <td>40.170615</td>\n",
              "      <td>9.32</td>\n",
              "    </tr>\n",
              "    <tr>\n",
              "      <th>11</th>\n",
              "      <td>47.017882</td>\n",
              "      <td>19.00</td>\n",
              "    </tr>\n",
              "  </tbody>\n",
              "</table>\n",
              "</div>"
            ],
            "text/plain": [
              "    TPK_Online    TPK\n",
              "0    74.943540  59.29\n",
              "1    67.654273  45.98\n",
              "2    43.024291  25.41\n",
              "3    25.499224   3.22\n",
              "4    34.391151   2.07\n",
              "5    32.828614   2.07\n",
              "6    31.544996   2.57\n",
              "7    37.623642   3.68\n",
              "8    39.291089   5.28\n",
              "9    37.940120   9.53\n",
              "10   40.170615   9.32\n",
              "11   47.017882  19.00"
            ]
          },
          "metadata": {},
          "execution_count": 24
        }
      ]
    },
    {
      "cell_type": "code",
      "metadata": {
        "colab": {
          "base_uri": "https://localhost:8080/",
          "height": 235
        },
        "id": "mCQThdO41Y4v",
        "outputId": "ad9c22b3-e55a-4691-e558-91a8900a2550"
      },
      "source": [
        "testset"
      ],
      "execution_count": 25,
      "outputs": [
        {
          "output_type": "execute_result",
          "data": {
            "text/html": [
              "<div>\n",
              "<style scoped>\n",
              "    .dataframe tbody tr th:only-of-type {\n",
              "        vertical-align: middle;\n",
              "    }\n",
              "\n",
              "    .dataframe tbody tr th {\n",
              "        vertical-align: top;\n",
              "    }\n",
              "\n",
              "    .dataframe thead th {\n",
              "        text-align: right;\n",
              "    }\n",
              "</style>\n",
              "<table border=\"1\" class=\"dataframe\">\n",
              "  <thead>\n",
              "    <tr style=\"text-align: right;\">\n",
              "      <th></th>\n",
              "      <th>TPK_Online</th>\n",
              "      <th>TPK</th>\n",
              "    </tr>\n",
              "  </thead>\n",
              "  <tbody>\n",
              "    <tr>\n",
              "      <th>0</th>\n",
              "      <td>37.867489</td>\n",
              "      <td>NaN</td>\n",
              "    </tr>\n",
              "    <tr>\n",
              "      <th>1</th>\n",
              "      <td>40.673514</td>\n",
              "      <td>NaN</td>\n",
              "    </tr>\n",
              "    <tr>\n",
              "      <th>2</th>\n",
              "      <td>36.925381</td>\n",
              "      <td>NaN</td>\n",
              "    </tr>\n",
              "    <tr>\n",
              "      <th>3</th>\n",
              "      <td>37.138459</td>\n",
              "      <td>NaN</td>\n",
              "    </tr>\n",
              "    <tr>\n",
              "      <th>4</th>\n",
              "      <td>37.250938</td>\n",
              "      <td>NaN</td>\n",
              "    </tr>\n",
              "    <tr>\n",
              "      <th>5</th>\n",
              "      <td>38.742409</td>\n",
              "      <td>NaN</td>\n",
              "    </tr>\n",
              "  </tbody>\n",
              "</table>\n",
              "</div>"
            ],
            "text/plain": [
              "   TPK_Online  TPK\n",
              "0   37.867489  NaN\n",
              "1   40.673514  NaN\n",
              "2   36.925381  NaN\n",
              "3   37.138459  NaN\n",
              "4   37.250938  NaN\n",
              "5   38.742409  NaN"
            ]
          },
          "metadata": {},
          "execution_count": 25
        }
      ]
    },
    {
      "cell_type": "markdown",
      "metadata": {
        "id": "VUtqWdjV2oWM"
      },
      "source": [
        "## Transformation"
      ]
    },
    {
      "cell_type": "markdown",
      "metadata": {
        "id": "Jh7PpTKs2uw8"
      },
      "source": [
        "### Minmax Scaler"
      ]
    },
    {
      "cell_type": "code",
      "metadata": {
        "colab": {
          "base_uri": "https://localhost:8080/"
        },
        "id": "3g6bShEz2tlM",
        "outputId": "eab65635-d648-4d83-bd02-fd7c22e2cf1a"
      },
      "source": [
        "from sklearn.preprocessing import MinMaxScaler\n",
        "# from sklearn.preprocessing import StandardScaler\n",
        "\n",
        "minmax_scaler_tpk = MinMaxScaler()\n",
        "trainset['TPK_Minmax'] = minmax_scaler_tpk\\\n",
        "                        .fit_transform(trainset['TPK'].values.reshape(-1,1))\n",
        "\n",
        "minmax_scaler_tpk_online = MinMaxScaler()\n",
        "trainset['TPK_O_Minmax'] = minmax_scaler_tpk_online\\\n",
        "                           .fit_transform(trainset['TPK_Online'].values.reshape(-1,1))\n",
        "testset['TPK_O_Minmax'] = minmax_scaler_tpk_online\\\n",
        "                            .transform(testset['TPK_Online'].values.reshape(-1,1))"
      ],
      "execution_count": 26,
      "outputs": [
        {
          "output_type": "stream",
          "name": "stderr",
          "text": [
            "/usr/local/lib/python3.7/dist-packages/ipykernel_launcher.py:5: SettingWithCopyWarning: \n",
            "A value is trying to be set on a copy of a slice from a DataFrame.\n",
            "Try using .loc[row_indexer,col_indexer] = value instead\n",
            "\n",
            "See the caveats in the documentation: https://pandas.pydata.org/pandas-docs/stable/user_guide/indexing.html#returning-a-view-versus-a-copy\n",
            "  \"\"\"\n",
            "/usr/local/lib/python3.7/dist-packages/ipykernel_launcher.py:8: SettingWithCopyWarning: \n",
            "A value is trying to be set on a copy of a slice from a DataFrame.\n",
            "Try using .loc[row_indexer,col_indexer] = value instead\n",
            "\n",
            "See the caveats in the documentation: https://pandas.pydata.org/pandas-docs/stable/user_guide/indexing.html#returning-a-view-versus-a-copy\n",
            "  \n",
            "/usr/local/lib/python3.7/dist-packages/ipykernel_launcher.py:9: SettingWithCopyWarning: \n",
            "A value is trying to be set on a copy of a slice from a DataFrame.\n",
            "Try using .loc[row_indexer,col_indexer] = value instead\n",
            "\n",
            "See the caveats in the documentation: https://pandas.pydata.org/pandas-docs/stable/user_guide/indexing.html#returning-a-view-versus-a-copy\n",
            "  if __name__ == '__main__':\n"
          ]
        }
      ]
    },
    {
      "cell_type": "code",
      "metadata": {
        "colab": {
          "base_uri": "https://localhost:8080/",
          "height": 204
        },
        "id": "TyDyaI-i2LlQ",
        "outputId": "6e520d5f-3a02-47d5-b89a-dcfae5212757"
      },
      "source": [
        "trainset.head()"
      ],
      "execution_count": 27,
      "outputs": [
        {
          "output_type": "execute_result",
          "data": {
            "text/html": [
              "<div>\n",
              "<style scoped>\n",
              "    .dataframe tbody tr th:only-of-type {\n",
              "        vertical-align: middle;\n",
              "    }\n",
              "\n",
              "    .dataframe tbody tr th {\n",
              "        vertical-align: top;\n",
              "    }\n",
              "\n",
              "    .dataframe thead th {\n",
              "        text-align: right;\n",
              "    }\n",
              "</style>\n",
              "<table border=\"1\" class=\"dataframe\">\n",
              "  <thead>\n",
              "    <tr style=\"text-align: right;\">\n",
              "      <th></th>\n",
              "      <th>TPK_Online</th>\n",
              "      <th>TPK</th>\n",
              "      <th>TPK_Minmax</th>\n",
              "      <th>TPK_O_Minmax</th>\n",
              "    </tr>\n",
              "  </thead>\n",
              "  <tbody>\n",
              "    <tr>\n",
              "      <th>0</th>\n",
              "      <td>74.943540</td>\n",
              "      <td>59.29</td>\n",
              "      <td>1.000000</td>\n",
              "      <td>1.000000</td>\n",
              "    </tr>\n",
              "    <tr>\n",
              "      <th>1</th>\n",
              "      <td>67.654273</td>\n",
              "      <td>45.98</td>\n",
              "      <td>0.767389</td>\n",
              "      <td>0.852576</td>\n",
              "    </tr>\n",
              "    <tr>\n",
              "      <th>2</th>\n",
              "      <td>43.024291</td>\n",
              "      <td>25.41</td>\n",
              "      <td>0.407899</td>\n",
              "      <td>0.354440</td>\n",
              "    </tr>\n",
              "    <tr>\n",
              "      <th>3</th>\n",
              "      <td>25.499224</td>\n",
              "      <td>3.22</td>\n",
              "      <td>0.020098</td>\n",
              "      <td>0.000000</td>\n",
              "    </tr>\n",
              "    <tr>\n",
              "      <th>4</th>\n",
              "      <td>34.391151</td>\n",
              "      <td>2.07</td>\n",
              "      <td>0.000000</td>\n",
              "      <td>0.179837</td>\n",
              "    </tr>\n",
              "  </tbody>\n",
              "</table>\n",
              "</div>"
            ],
            "text/plain": [
              "   TPK_Online    TPK  TPK_Minmax  TPK_O_Minmax\n",
              "0   74.943540  59.29    1.000000      1.000000\n",
              "1   67.654273  45.98    0.767389      0.852576\n",
              "2   43.024291  25.41    0.407899      0.354440\n",
              "3   25.499224   3.22    0.020098      0.000000\n",
              "4   34.391151   2.07    0.000000      0.179837"
            ]
          },
          "metadata": {},
          "execution_count": 27
        }
      ]
    },
    {
      "cell_type": "code",
      "metadata": {
        "colab": {
          "base_uri": "https://localhost:8080/",
          "height": 204
        },
        "id": "IgaOW1wa4Jw-",
        "outputId": "cb515c21-3561-4e26-83b1-4f05e3490768"
      },
      "source": [
        "testset.head()"
      ],
      "execution_count": 28,
      "outputs": [
        {
          "output_type": "execute_result",
          "data": {
            "text/html": [
              "<div>\n",
              "<style scoped>\n",
              "    .dataframe tbody tr th:only-of-type {\n",
              "        vertical-align: middle;\n",
              "    }\n",
              "\n",
              "    .dataframe tbody tr th {\n",
              "        vertical-align: top;\n",
              "    }\n",
              "\n",
              "    .dataframe thead th {\n",
              "        text-align: right;\n",
              "    }\n",
              "</style>\n",
              "<table border=\"1\" class=\"dataframe\">\n",
              "  <thead>\n",
              "    <tr style=\"text-align: right;\">\n",
              "      <th></th>\n",
              "      <th>TPK_Online</th>\n",
              "      <th>TPK</th>\n",
              "      <th>TPK_O_Minmax</th>\n",
              "    </tr>\n",
              "  </thead>\n",
              "  <tbody>\n",
              "    <tr>\n",
              "      <th>0</th>\n",
              "      <td>37.867489</td>\n",
              "      <td>NaN</td>\n",
              "      <td>0.250145</td>\n",
              "    </tr>\n",
              "    <tr>\n",
              "      <th>1</th>\n",
              "      <td>40.673514</td>\n",
              "      <td>NaN</td>\n",
              "      <td>0.306897</td>\n",
              "    </tr>\n",
              "    <tr>\n",
              "      <th>2</th>\n",
              "      <td>36.925381</td>\n",
              "      <td>NaN</td>\n",
              "      <td>0.231091</td>\n",
              "    </tr>\n",
              "    <tr>\n",
              "      <th>3</th>\n",
              "      <td>37.138459</td>\n",
              "      <td>NaN</td>\n",
              "      <td>0.235401</td>\n",
              "    </tr>\n",
              "    <tr>\n",
              "      <th>4</th>\n",
              "      <td>37.250938</td>\n",
              "      <td>NaN</td>\n",
              "      <td>0.237676</td>\n",
              "    </tr>\n",
              "  </tbody>\n",
              "</table>\n",
              "</div>"
            ],
            "text/plain": [
              "   TPK_Online  TPK  TPK_O_Minmax\n",
              "0   37.867489  NaN      0.250145\n",
              "1   40.673514  NaN      0.306897\n",
              "2   36.925381  NaN      0.231091\n",
              "3   37.138459  NaN      0.235401\n",
              "4   37.250938  NaN      0.237676"
            ]
          },
          "metadata": {},
          "execution_count": 28
        }
      ]
    },
    {
      "cell_type": "markdown",
      "metadata": {
        "id": "JWQyRbDQ1rAq"
      },
      "source": [
        "## Exporting to CSV"
      ]
    },
    {
      "cell_type": "code",
      "metadata": {
        "id": "nPkIkQIV1vQB"
      },
      "source": [
        "trainset.to_csv('TRAINSET.csv')"
      ],
      "execution_count": 29,
      "outputs": []
    },
    {
      "cell_type": "code",
      "metadata": {
        "id": "a1uo0WTx1qHh"
      },
      "source": [
        "testset.to_csv('TESTSET.csv')"
      ],
      "execution_count": 30,
      "outputs": []
    },
    {
      "cell_type": "code",
      "metadata": {
        "colab": {
          "base_uri": "https://localhost:8080/"
        },
        "id": "YKbv78dk16q1",
        "outputId": "72ba479d-de8f-4cb5-9cd4-e76a6886e086"
      },
      "source": [
        "!ls /content"
      ],
      "execution_count": 31,
      "outputs": [
        {
          "output_type": "stream",
          "name": "stdout",
          "text": [
            "Deskripsi%20Data%20TPK.docx   TESTSET.csv\n",
            "kaggle.json\t\t      test-TPK_Hotel_berbintang_2021.csv\n",
            "sample_data\t\t      train-online_booking_2020.csv\n",
            "sample-submission.csv\t      TRAINSET.csv\n",
            "test-online_booking_2021.csv  train-TPK_Hotel_berbintang_2020.csv\n"
          ]
        }
      ]
    }
  ]
}
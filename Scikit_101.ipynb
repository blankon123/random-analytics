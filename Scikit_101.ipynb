{
  "nbformat": 4,
  "nbformat_minor": 0,
  "metadata": {
    "colab": {
      "name": "Scikit 101",
      "provenance": [],
      "collapsed_sections": [],
      "authorship_tag": "ABX9TyP7teXIQRjqUPGpMCDm4OEq",
      "include_colab_link": true
    },
    "kernelspec": {
      "name": "python3",
      "display_name": "Python 3"
    },
    "language_info": {
      "name": "python"
    }
  },
  "cells": [
    {
      "cell_type": "markdown",
      "metadata": {
        "id": "view-in-github",
        "colab_type": "text"
      },
      "source": [
        "<a href=\"https://colab.research.google.com/github/blankon123/random-analytics/blob/main/Scikit_101.ipynb\" target=\"_parent\"><img src=\"https://colab.research.google.com/assets/colab-badge.svg\" alt=\"Open In Colab\"/></a>"
      ]
    },
    {
      "cell_type": "markdown",
      "metadata": {
        "id": "szJHUzcgtMFJ"
      },
      "source": [
        "## Load Libriaries"
      ]
    },
    {
      "cell_type": "code",
      "metadata": {
        "id": "A-YzZJu64_8E"
      },
      "source": [
        "from sklearn import datasets\n",
        "from sklearn import linear_model\n",
        "from sklearn.metrics import mean_squared_error\n",
        "\n",
        "import numpy as np\n",
        "import pandas as pd"
      ],
      "execution_count": 4,
      "outputs": []
    },
    {
      "cell_type": "markdown",
      "metadata": {
        "id": "EtIbzY2NtPcA"
      },
      "source": [
        "## Download Kaggle Data"
      ]
    },
    {
      "cell_type": "code",
      "metadata": {
        "colab": {
          "base_uri": "https://localhost:8080/"
        },
        "id": "bZKh_2FreC_L",
        "outputId": "0120a011-9d69-489f-f9a7-a03503e48364"
      },
      "source": [
        "#Download dataset dari kaggle\n",
        "from google.colab import files\n",
        "from IPython.display import clear_output\n",
        "\n",
        "files.upload()\n",
        "\n",
        "! pip install -q kaggle\n",
        "! mkdir ~/.kaggle\n",
        "! cp kaggle.json ~/.kaggle/\n",
        "! chmod 600 ~/.kaggle/kaggle.json\n",
        "! kaggle competitions download -c bigdata-bps-hackathon-2021\n",
        "\n",
        "clear_output()\n",
        "!ls /content"
      ],
      "execution_count": 11,
      "outputs": [
        {
          "output_type": "stream",
          "name": "stdout",
          "text": [
            "Deskripsi%20Data%20TPK.docx  test-online_booking_2021.csv\n",
            "kaggle.json\t\t     test-TPK_Hotel_berbintang_2021.csv\n",
            "sample_data\t\t     train-online_booking_2020.csv\n",
            "sample-submission.csv\t     train-TPK_Hotel_berbintang_2020.csv\n"
          ]
        }
      ]
    },
    {
      "cell_type": "markdown",
      "metadata": {
        "id": "tgmyKPn7tS_j"
      },
      "source": [
        "## Load Data"
      ]
    },
    {
      "cell_type": "markdown",
      "metadata": {
        "id": "xXqOp-TPtpUk"
      },
      "source": [
        "### Training Data"
      ]
    },
    {
      "cell_type": "code",
      "metadata": {
        "colab": {
          "base_uri": "https://localhost:8080/",
          "height": 359
        },
        "id": "oiATon7JenWL",
        "outputId": "559847ff-0028-4468-b87b-fa66b51e06ce"
      },
      "source": [
        "train_online = pd.read_csv('train-online_booking_2020.csv')\n",
        "train_online.head(10)"
      ],
      "execution_count": 16,
      "outputs": [
        {
          "output_type": "execute_result",
          "data": {
            "text/html": [
              "<div>\n",
              "<style scoped>\n",
              "    .dataframe tbody tr th:only-of-type {\n",
              "        vertical-align: middle;\n",
              "    }\n",
              "\n",
              "    .dataframe tbody tr th {\n",
              "        vertical-align: top;\n",
              "    }\n",
              "\n",
              "    .dataframe thead th {\n",
              "        text-align: right;\n",
              "    }\n",
              "</style>\n",
              "<table border=\"1\" class=\"dataframe\">\n",
              "  <thead>\n",
              "    <tr style=\"text-align: right;\">\n",
              "      <th></th>\n",
              "      <th>province</th>\n",
              "      <th>type</th>\n",
              "      <th>tanggal</th>\n",
              "      <th>klasifikasi</th>\n",
              "      <th>all_available_room</th>\n",
              "      <th>room_total</th>\n",
              "    </tr>\n",
              "  </thead>\n",
              "  <tbody>\n",
              "    <tr>\n",
              "      <th>0</th>\n",
              "      <td>Bali</td>\n",
              "      <td>Hotel</td>\n",
              "      <td>1/1/2020</td>\n",
              "      <td>Rated</td>\n",
              "      <td>2155</td>\n",
              "      <td>37756</td>\n",
              "    </tr>\n",
              "    <tr>\n",
              "      <th>1</th>\n",
              "      <td>Bali</td>\n",
              "      <td>Hotel</td>\n",
              "      <td>1/1/2020</td>\n",
              "      <td>Not Rated</td>\n",
              "      <td>163</td>\n",
              "      <td>392</td>\n",
              "    </tr>\n",
              "    <tr>\n",
              "      <th>2</th>\n",
              "      <td>Bali</td>\n",
              "      <td>Hotel</td>\n",
              "      <td>1/2/2020</td>\n",
              "      <td>Rated</td>\n",
              "      <td>3878</td>\n",
              "      <td>38814</td>\n",
              "    </tr>\n",
              "    <tr>\n",
              "      <th>3</th>\n",
              "      <td>Bali</td>\n",
              "      <td>Hotel</td>\n",
              "      <td>1/2/2020</td>\n",
              "      <td>Not Rated</td>\n",
              "      <td>211</td>\n",
              "      <td>415</td>\n",
              "    </tr>\n",
              "    <tr>\n",
              "      <th>4</th>\n",
              "      <td>Bali</td>\n",
              "      <td>Hotel</td>\n",
              "      <td>1/3/2020</td>\n",
              "      <td>Rated</td>\n",
              "      <td>5412</td>\n",
              "      <td>39084</td>\n",
              "    </tr>\n",
              "    <tr>\n",
              "      <th>5</th>\n",
              "      <td>Bali</td>\n",
              "      <td>Hotel</td>\n",
              "      <td>1/3/2020</td>\n",
              "      <td>Not Rated</td>\n",
              "      <td>256</td>\n",
              "      <td>444</td>\n",
              "    </tr>\n",
              "    <tr>\n",
              "      <th>6</th>\n",
              "      <td>Bali</td>\n",
              "      <td>Hotel</td>\n",
              "      <td>1/4/2020</td>\n",
              "      <td>Rated</td>\n",
              "      <td>7786</td>\n",
              "      <td>39310</td>\n",
              "    </tr>\n",
              "    <tr>\n",
              "      <th>7</th>\n",
              "      <td>Bali</td>\n",
              "      <td>Hotel</td>\n",
              "      <td>1/4/2020</td>\n",
              "      <td>Not Rated</td>\n",
              "      <td>306</td>\n",
              "      <td>483</td>\n",
              "    </tr>\n",
              "    <tr>\n",
              "      <th>8</th>\n",
              "      <td>Bali</td>\n",
              "      <td>Hotel</td>\n",
              "      <td>1/5/2020</td>\n",
              "      <td>Rated</td>\n",
              "      <td>7956</td>\n",
              "      <td>39334</td>\n",
              "    </tr>\n",
              "    <tr>\n",
              "      <th>9</th>\n",
              "      <td>Bali</td>\n",
              "      <td>Hotel</td>\n",
              "      <td>1/5/2020</td>\n",
              "      <td>Not Rated</td>\n",
              "      <td>273</td>\n",
              "      <td>448</td>\n",
              "    </tr>\n",
              "  </tbody>\n",
              "</table>\n",
              "</div>"
            ],
            "text/plain": [
              "  province   type   tanggal klasifikasi  all_available_room  room_total\n",
              "0     Bali  Hotel  1/1/2020       Rated                2155       37756\n",
              "1     Bali  Hotel  1/1/2020   Not Rated                 163         392\n",
              "2     Bali  Hotel  1/2/2020       Rated                3878       38814\n",
              "3     Bali  Hotel  1/2/2020   Not Rated                 211         415\n",
              "4     Bali  Hotel  1/3/2020       Rated                5412       39084\n",
              "5     Bali  Hotel  1/3/2020   Not Rated                 256         444\n",
              "6     Bali  Hotel  1/4/2020       Rated                7786       39310\n",
              "7     Bali  Hotel  1/4/2020   Not Rated                 306         483\n",
              "8     Bali  Hotel  1/5/2020       Rated                7956       39334\n",
              "9     Bali  Hotel  1/5/2020   Not Rated                 273         448"
            ]
          },
          "metadata": {},
          "execution_count": 16
        }
      ]
    },
    {
      "cell_type": "code",
      "metadata": {
        "colab": {
          "base_uri": "https://localhost:8080/"
        },
        "id": "tXYEGErsmYH-",
        "outputId": "1cd218cb-bb29-4fea-b3c1-24f05891aac8"
      },
      "source": [
        "train_online.info()"
      ],
      "execution_count": 17,
      "outputs": [
        {
          "output_type": "stream",
          "name": "stdout",
          "text": [
            "<class 'pandas.core.frame.DataFrame'>\n",
            "RangeIndex: 696 entries, 0 to 695\n",
            "Data columns (total 6 columns):\n",
            " #   Column              Non-Null Count  Dtype \n",
            "---  ------              --------------  ----- \n",
            " 0   province            696 non-null    object\n",
            " 1   type                696 non-null    object\n",
            " 2   tanggal             696 non-null    object\n",
            " 3   klasifikasi         696 non-null    object\n",
            " 4   all_available_room  696 non-null    int64 \n",
            " 5   room_total          696 non-null    int64 \n",
            "dtypes: int64(2), object(4)\n",
            "memory usage: 32.8+ KB\n"
          ]
        }
      ]
    },
    {
      "cell_type": "code",
      "metadata": {
        "colab": {
          "base_uri": "https://localhost:8080/",
          "height": 204
        },
        "id": "Xy-uVQj4m_zJ",
        "outputId": "77f5b30a-9b62-4ee9-812c-fd2c5a7c5da1"
      },
      "source": [
        "train_bps = pd.read_csv('train-TPK_Hotel_berbintang_2020.csv')\n",
        "train_bps.head()"
      ],
      "execution_count": 26,
      "outputs": [
        {
          "output_type": "execute_result",
          "data": {
            "text/html": [
              "<div>\n",
              "<style scoped>\n",
              "    .dataframe tbody tr th:only-of-type {\n",
              "        vertical-align: middle;\n",
              "    }\n",
              "\n",
              "    .dataframe tbody tr th {\n",
              "        vertical-align: top;\n",
              "    }\n",
              "\n",
              "    .dataframe thead th {\n",
              "        text-align: right;\n",
              "    }\n",
              "</style>\n",
              "<table border=\"1\" class=\"dataframe\">\n",
              "  <thead>\n",
              "    <tr style=\"text-align: right;\">\n",
              "      <th></th>\n",
              "      <th>Id</th>\n",
              "      <th>Provinsi</th>\n",
              "      <th>Tahun</th>\n",
              "      <th>Bulan</th>\n",
              "      <th>Aggregate_var</th>\n",
              "      <th>TPK</th>\n",
              "    </tr>\n",
              "  </thead>\n",
              "  <tbody>\n",
              "    <tr>\n",
              "      <th>0</th>\n",
              "      <td>1</td>\n",
              "      <td>Bali</td>\n",
              "      <td>2020</td>\n",
              "      <td>Januari</td>\n",
              "      <td>NaN</td>\n",
              "      <td>59.29</td>\n",
              "    </tr>\n",
              "    <tr>\n",
              "      <th>1</th>\n",
              "      <td>2</td>\n",
              "      <td>Bali</td>\n",
              "      <td>2020</td>\n",
              "      <td>Februari</td>\n",
              "      <td>NaN</td>\n",
              "      <td>45.98</td>\n",
              "    </tr>\n",
              "    <tr>\n",
              "      <th>2</th>\n",
              "      <td>3</td>\n",
              "      <td>Bali</td>\n",
              "      <td>2020</td>\n",
              "      <td>Maret</td>\n",
              "      <td>NaN</td>\n",
              "      <td>25.41</td>\n",
              "    </tr>\n",
              "    <tr>\n",
              "      <th>3</th>\n",
              "      <td>4</td>\n",
              "      <td>Bali</td>\n",
              "      <td>2020</td>\n",
              "      <td>April</td>\n",
              "      <td>NaN</td>\n",
              "      <td>3.22</td>\n",
              "    </tr>\n",
              "    <tr>\n",
              "      <th>4</th>\n",
              "      <td>5</td>\n",
              "      <td>Bali</td>\n",
              "      <td>2020</td>\n",
              "      <td>Mei</td>\n",
              "      <td>NaN</td>\n",
              "      <td>2.07</td>\n",
              "    </tr>\n",
              "  </tbody>\n",
              "</table>\n",
              "</div>"
            ],
            "text/plain": [
              "   Id Provinsi  Tahun     Bulan  Aggregate_var    TPK\n",
              "0   1     Bali   2020   Januari            NaN  59.29\n",
              "1   2     Bali   2020  Februari            NaN  45.98\n",
              "2   3     Bali   2020     Maret            NaN  25.41\n",
              "3   4     Bali   2020     April            NaN   3.22\n",
              "4   5     Bali   2020       Mei            NaN   2.07"
            ]
          },
          "metadata": {},
          "execution_count": 26
        }
      ]
    },
    {
      "cell_type": "code",
      "metadata": {
        "colab": {
          "base_uri": "https://localhost:8080/"
        },
        "id": "H8a1rj5anO0w",
        "outputId": "4c016150-e1b3-4449-8e27-08dbfb3245a0"
      },
      "source": [
        "train_bps.info()"
      ],
      "execution_count": 19,
      "outputs": [
        {
          "output_type": "stream",
          "name": "stdout",
          "text": [
            "<class 'pandas.core.frame.DataFrame'>\n",
            "RangeIndex: 12 entries, 0 to 11\n",
            "Data columns (total 6 columns):\n",
            " #   Column         Non-Null Count  Dtype  \n",
            "---  ------         --------------  -----  \n",
            " 0   Id             12 non-null     int64  \n",
            " 1   Provinsi       12 non-null     object \n",
            " 2   Tahun          12 non-null     int64  \n",
            " 3   Bulan          12 non-null     object \n",
            " 4   Aggregate_var  0 non-null      float64\n",
            " 5   TPK            12 non-null     float64\n",
            "dtypes: float64(2), int64(2), object(2)\n",
            "memory usage: 704.0+ bytes\n"
          ]
        }
      ]
    },
    {
      "cell_type": "markdown",
      "metadata": {
        "id": "aFwi0EqmttnG"
      },
      "source": [
        "## Testing Data"
      ]
    },
    {
      "cell_type": "code",
      "metadata": {
        "colab": {
          "base_uri": "https://localhost:8080/",
          "height": 235
        },
        "id": "GIr-4yC-sUG_",
        "outputId": "558014a4-838d-405e-f5d5-9a138ff45868"
      },
      "source": [
        "test_bps = pd.read_csv('test-TPK_Hotel_berbintang_2021.csv')\n",
        "test_bps"
      ],
      "execution_count": 21,
      "outputs": [
        {
          "output_type": "execute_result",
          "data": {
            "text/html": [
              "<div>\n",
              "<style scoped>\n",
              "    .dataframe tbody tr th:only-of-type {\n",
              "        vertical-align: middle;\n",
              "    }\n",
              "\n",
              "    .dataframe tbody tr th {\n",
              "        vertical-align: top;\n",
              "    }\n",
              "\n",
              "    .dataframe thead th {\n",
              "        text-align: right;\n",
              "    }\n",
              "</style>\n",
              "<table border=\"1\" class=\"dataframe\">\n",
              "  <thead>\n",
              "    <tr style=\"text-align: right;\">\n",
              "      <th></th>\n",
              "      <th>Id</th>\n",
              "      <th>Provinsi</th>\n",
              "      <th>Tahun</th>\n",
              "      <th>Bulan</th>\n",
              "      <th>Aggregate</th>\n",
              "      <th>TPK</th>\n",
              "    </tr>\n",
              "  </thead>\n",
              "  <tbody>\n",
              "    <tr>\n",
              "      <th>0</th>\n",
              "      <td>1</td>\n",
              "      <td>BALI</td>\n",
              "      <td>2021</td>\n",
              "      <td>Januari</td>\n",
              "      <td>NaN</td>\n",
              "      <td>NaN</td>\n",
              "    </tr>\n",
              "    <tr>\n",
              "      <th>1</th>\n",
              "      <td>2</td>\n",
              "      <td>BALI</td>\n",
              "      <td>2021</td>\n",
              "      <td>Februari</td>\n",
              "      <td>NaN</td>\n",
              "      <td>NaN</td>\n",
              "    </tr>\n",
              "    <tr>\n",
              "      <th>2</th>\n",
              "      <td>3</td>\n",
              "      <td>BALI</td>\n",
              "      <td>2021</td>\n",
              "      <td>Maret</td>\n",
              "      <td>NaN</td>\n",
              "      <td>NaN</td>\n",
              "    </tr>\n",
              "    <tr>\n",
              "      <th>3</th>\n",
              "      <td>4</td>\n",
              "      <td>BALI</td>\n",
              "      <td>2021</td>\n",
              "      <td>April</td>\n",
              "      <td>NaN</td>\n",
              "      <td>NaN</td>\n",
              "    </tr>\n",
              "    <tr>\n",
              "      <th>4</th>\n",
              "      <td>5</td>\n",
              "      <td>BALI</td>\n",
              "      <td>2021</td>\n",
              "      <td>Mei</td>\n",
              "      <td>NaN</td>\n",
              "      <td>NaN</td>\n",
              "    </tr>\n",
              "    <tr>\n",
              "      <th>5</th>\n",
              "      <td>6</td>\n",
              "      <td>BALI</td>\n",
              "      <td>2021</td>\n",
              "      <td>Juni</td>\n",
              "      <td>NaN</td>\n",
              "      <td>NaN</td>\n",
              "    </tr>\n",
              "  </tbody>\n",
              "</table>\n",
              "</div>"
            ],
            "text/plain": [
              "   Id Provinsi  Tahun     Bulan  Aggregate  TPK\n",
              "0   1     BALI   2021   Januari        NaN  NaN\n",
              "1   2     BALI   2021  Februari        NaN  NaN\n",
              "2   3     BALI   2021     Maret        NaN  NaN\n",
              "3   4     BALI   2021     April        NaN  NaN\n",
              "4   5     BALI   2021       Mei        NaN  NaN\n",
              "5   6     BALI   2021      Juni        NaN  NaN"
            ]
          },
          "metadata": {},
          "execution_count": 21
        }
      ]
    },
    {
      "cell_type": "code",
      "metadata": {
        "colab": {
          "base_uri": "https://localhost:8080/",
          "height": 204
        },
        "id": "n8d8_C6Xtihu",
        "outputId": "6e4fcf4d-fcf1-497d-e829-08eb5adfef23"
      },
      "source": [
        "test_online = pd.read_csv('test-online_booking_2021.csv')\n",
        "test_online.head()"
      ],
      "execution_count": 28,
      "outputs": [
        {
          "output_type": "execute_result",
          "data": {
            "text/html": [
              "<div>\n",
              "<style scoped>\n",
              "    .dataframe tbody tr th:only-of-type {\n",
              "        vertical-align: middle;\n",
              "    }\n",
              "\n",
              "    .dataframe tbody tr th {\n",
              "        vertical-align: top;\n",
              "    }\n",
              "\n",
              "    .dataframe thead th {\n",
              "        text-align: right;\n",
              "    }\n",
              "</style>\n",
              "<table border=\"1\" class=\"dataframe\">\n",
              "  <thead>\n",
              "    <tr style=\"text-align: right;\">\n",
              "      <th></th>\n",
              "      <th>province</th>\n",
              "      <th>type</th>\n",
              "      <th>tanggal</th>\n",
              "      <th>klasifikasi</th>\n",
              "      <th>all_available_room</th>\n",
              "      <th>room_total</th>\n",
              "    </tr>\n",
              "  </thead>\n",
              "  <tbody>\n",
              "    <tr>\n",
              "      <th>0</th>\n",
              "      <td>Bali</td>\n",
              "      <td>Hotel</td>\n",
              "      <td>1/1/2021</td>\n",
              "      <td>Rated</td>\n",
              "      <td>31334</td>\n",
              "      <td>54852</td>\n",
              "    </tr>\n",
              "    <tr>\n",
              "      <th>1</th>\n",
              "      <td>Bali</td>\n",
              "      <td>Hotel</td>\n",
              "      <td>1/1/2021</td>\n",
              "      <td>Not Rated</td>\n",
              "      <td>618</td>\n",
              "      <td>702</td>\n",
              "    </tr>\n",
              "    <tr>\n",
              "      <th>2</th>\n",
              "      <td>Bali</td>\n",
              "      <td>Hotel</td>\n",
              "      <td>1/2/2021</td>\n",
              "      <td>Rated</td>\n",
              "      <td>33698</td>\n",
              "      <td>55950</td>\n",
              "    </tr>\n",
              "    <tr>\n",
              "      <th>3</th>\n",
              "      <td>Bali</td>\n",
              "      <td>Hotel</td>\n",
              "      <td>1/2/2021</td>\n",
              "      <td>Not Rated</td>\n",
              "      <td>642</td>\n",
              "      <td>705</td>\n",
              "    </tr>\n",
              "    <tr>\n",
              "      <th>4</th>\n",
              "      <td>Bali</td>\n",
              "      <td>Hotel</td>\n",
              "      <td>1/3/2021</td>\n",
              "      <td>Rated</td>\n",
              "      <td>33310</td>\n",
              "      <td>55380</td>\n",
              "    </tr>\n",
              "  </tbody>\n",
              "</table>\n",
              "</div>"
            ],
            "text/plain": [
              "  province   type   tanggal klasifikasi  all_available_room  room_total\n",
              "0     Bali  Hotel  1/1/2021       Rated               31334       54852\n",
              "1     Bali  Hotel  1/1/2021   Not Rated                 618         702\n",
              "2     Bali  Hotel  1/2/2021       Rated               33698       55950\n",
              "3     Bali  Hotel  1/2/2021   Not Rated                 642         705\n",
              "4     Bali  Hotel  1/3/2021       Rated               33310       55380"
            ]
          },
          "metadata": {},
          "execution_count": 28
        }
      ]
    },
    {
      "cell_type": "code",
      "metadata": {
        "colab": {
          "base_uri": "https://localhost:8080/"
        },
        "id": "AY7xTYn9uH71",
        "outputId": "175e10bb-d3d8-44d4-d726-48eb3fd0d229"
      },
      "source": [
        "test_online.info()"
      ],
      "execution_count": 29,
      "outputs": [
        {
          "output_type": "stream",
          "name": "stdout",
          "text": [
            "<class 'pandas.core.frame.DataFrame'>\n",
            "RangeIndex: 356 entries, 0 to 355\n",
            "Data columns (total 6 columns):\n",
            " #   Column              Non-Null Count  Dtype \n",
            "---  ------              --------------  ----- \n",
            " 0   province            356 non-null    object\n",
            " 1   type                356 non-null    object\n",
            " 2   tanggal             356 non-null    object\n",
            " 3   klasifikasi         356 non-null    object\n",
            " 4   all_available_room  356 non-null    int64 \n",
            " 5   room_total          356 non-null    int64 \n",
            "dtypes: int64(2), object(4)\n",
            "memory usage: 16.8+ KB\n"
          ]
        }
      ]
    },
    {
      "cell_type": "markdown",
      "metadata": {
        "id": "5cJtrk0Ztv8f"
      },
      "source": [
        "### Submission"
      ]
    },
    {
      "cell_type": "code",
      "metadata": {
        "colab": {
          "base_uri": "https://localhost:8080/",
          "height": 235
        },
        "id": "P4YxnqqIse9E",
        "outputId": "185a8c8d-0159-4fb2-91f3-47a295f576a9"
      },
      "source": [
        "submission = pd.read_csv('sample-submission.csv')\n",
        "submission"
      ],
      "execution_count": 24,
      "outputs": [
        {
          "output_type": "execute_result",
          "data": {
            "text/html": [
              "<div>\n",
              "<style scoped>\n",
              "    .dataframe tbody tr th:only-of-type {\n",
              "        vertical-align: middle;\n",
              "    }\n",
              "\n",
              "    .dataframe tbody tr th {\n",
              "        vertical-align: top;\n",
              "    }\n",
              "\n",
              "    .dataframe thead th {\n",
              "        text-align: right;\n",
              "    }\n",
              "</style>\n",
              "<table border=\"1\" class=\"dataframe\">\n",
              "  <thead>\n",
              "    <tr style=\"text-align: right;\">\n",
              "      <th></th>\n",
              "      <th>Id</th>\n",
              "      <th>TPK</th>\n",
              "    </tr>\n",
              "  </thead>\n",
              "  <tbody>\n",
              "    <tr>\n",
              "      <th>0</th>\n",
              "      <td>1</td>\n",
              "      <td>14.55</td>\n",
              "    </tr>\n",
              "    <tr>\n",
              "      <th>1</th>\n",
              "      <td>2</td>\n",
              "      <td>7.99</td>\n",
              "    </tr>\n",
              "    <tr>\n",
              "      <th>2</th>\n",
              "      <td>3</td>\n",
              "      <td>8.56</td>\n",
              "    </tr>\n",
              "    <tr>\n",
              "      <th>3</th>\n",
              "      <td>4</td>\n",
              "      <td>9.01</td>\n",
              "    </tr>\n",
              "    <tr>\n",
              "      <th>4</th>\n",
              "      <td>5</td>\n",
              "      <td>8.65</td>\n",
              "    </tr>\n",
              "    <tr>\n",
              "      <th>5</th>\n",
              "      <td>6</td>\n",
              "      <td>18.56</td>\n",
              "    </tr>\n",
              "  </tbody>\n",
              "</table>\n",
              "</div>"
            ],
            "text/plain": [
              "   Id    TPK\n",
              "0   1  14.55\n",
              "1   2   7.99\n",
              "2   3   8.56\n",
              "3   4   9.01\n",
              "4   5   8.65\n",
              "5   6  18.56"
            ]
          },
          "metadata": {},
          "execution_count": 24
        }
      ]
    }
  ]
}